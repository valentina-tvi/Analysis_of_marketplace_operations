{
 "cells": [
  {
   "cell_type": "markdown",
   "metadata": {},
   "source": [
    "# Анализ работы маркетплейса"
   ]
  },
  {
   "cell_type": "markdown",
   "metadata": {},
   "source": [
    "## Проблема\n",
    "\n",
    "Стартап, который недавно запустил маркетплейс столкнулся с проблемой: выручка маркетплейса несколько месяцев стоит на месте. "
   ]
  },
  {
   "cell_type": "markdown",
   "metadata": {},
   "source": [
    "###  Цель \n",
    "Добиться роста метрик без причинения неудобств клиентам, чтобы не оставить у них негативного опыта.\n",
    "\n",
    "- Задача 1: Оценить месячный retention в оформление заказа с помощью когортного анализа.\n",
    "- Задача 2: Определить, существует ли product/market fit у этого маркетплейса.\n",
    "- Задача 3: Определить 5 основных метрик, на которых продакту можно сконцентрироваться, чтобы максимизировать прибыль компании.\n",
    "- Задача 4: Выбрать одну из 3 основных гипотез с помощью фреймворка ICE.\n",
    "- Задача 5: Сформулировать нужные метрики, на которые ваша гипотеза должна повлиять.\n",
    "- Задача 6: Сформулировать выводы о проделанной работе. "
   ]
  },
  {
   "cell_type": "markdown",
   "metadata": {},
   "source": [
    "Описание файлов:\n",
    "\n",
    "### customers— таблица с уникальными идентификаторами пользователей\n",
    "customer_id — позаказный идентификатор пользователя\n",
    "customer_unique_id — уникальный идентификатор пользователя (аналог номера паспорта)\n",
    "customer_zip_code_prefix — почтовый индекс пользователя\n",
    "customer_city — город доставки пользователя\n",
    "customer_state — штат доставки пользователя\n",
    "\n",
    "### orders_dataset —  таблица заказов\n",
    "order_id — уникальный идентификатор заказа (номер чека)\n",
    "customer_id — позаказный идентификатор пользователя\n",
    "order_status — статус заказа\n",
    "order_purchase_timestamp — время создания заказа\n",
    "order_approved_at — время подтверждения оплаты заказа\n",
    "order_delivered_carrier_date — время передачи заказа в логистическую службу\n",
    "order_delivered_customer_date — время доставки заказа\n",
    "order_estimated_delivery_date — обещанная дата доставки\n",
    "\n",
    "### order_items— товарные позиции, входящие в заказы\n",
    "order_id — уникальный идентификатор заказа (номер чека)\n",
    "order_item_id — идентификатор товара внутри одного заказа\n",
    "product_id — ид товара (аналог штрихкода)\n",
    "seller_id — ид производителя товара\n",
    "shipping_limit_date — максимальная дата доставки продавцом для передачи заказа партнеру по логистике\n",
    "price — цена за единицу товара\n",
    "freight_value — вес товара \n",
    "\n",
    "Уникальные статусы заказов в таблице olist_orders_dataset:\n",
    "\n",
    "created — создан;\n",
    "approved — подтверждён;\n",
    "invoiced — выставлен счёт;\n",
    "processing — в процессе сборки заказа;\n",
    "shipped — отгружён со склада;\n",
    "delivered — доставлен пользователю;\n",
    "unavailable — заказ отменён по причине недоступности товара;\n",
    "canceled — отменён."
   ]
  },
  {
   "cell_type": "code",
   "execution_count": 92,
   "metadata": {},
   "outputs": [],
   "source": [
    "import pandas as pd\n",
    "from operator import attrgetter\n",
    "import numpy as np\n",
    "import seaborn as sns\n",
    "from matplotlib import pyplot as plt\n",
    "from matplotlib import colors as mcolors\n",
    "import requests\n",
    "import urllib"
   ]
  },
  {
   "cell_type": "code",
   "execution_count": 93,
   "metadata": {},
   "outputs": [],
   "source": [
    "# Установим размер для всех графиков\n",
    "plt.rcParams['figure.figsize'] = (20, 5)\n",
    "\n",
    "# Установим параметры сетки для всех графиков\n",
    "plt.rcParams['axes.grid'] = True\n",
    "plt.rcParams['grid.color'] = 'gray' \n",
    "plt.rcParams['grid.linestyle'] = '--' \n",
    "plt.rcParams['grid.linewidth'] = 0.5 "
   ]
  },
  {
   "cell_type": "code",
   "execution_count": 94,
   "metadata": {},
   "outputs": [],
   "source": [
    "# считаем файлы с яндекс диска, публичная ссылка на папку и все файлы\n",
    "link_folder = 'https://disk.yandex.ru/d/UoiisAFUyy5auQ'\n",
    "\n",
    "file_name_customers = 'olist_customers_dataset.csv'\n",
    "file_name_orders_dataset = 'olist_orders_dataset.csv'\n",
    "file_name_order_items = 'olist_order_items_dataset.csv'"
   ]
  },
  {
   "cell_type": "code",
   "execution_count": 95,
   "metadata": {},
   "outputs": [],
   "source": [
    "# прочитаем файл customers\n",
    "# формируем URL для получения прямой ссылки\n",
    "url_customers = 'https://cloud-api.yandex.net/v1/disk/public/resources/download' + \\\n",
    "      '?public_key=' + urllib.parse.quote(link_folder) + \\\n",
    "      '&path=/' + urllib.parse.quote(file_name_customers)\n",
    "\n",
    "# получаем прямую ссылку\n",
    "response_customers = requests.get(url_customers)\n",
    "download_url_customers = response_customers.json()['href']\n",
    "\n",
    "# читаем в датафрейм\n",
    "customers = pd.read_csv(download_url_customers)"
   ]
  },
  {
   "cell_type": "code",
   "execution_count": 96,
   "metadata": {},
   "outputs": [],
   "source": [
    "# прочитаем файл orders_dataset\n",
    "# формируем URL для получения прямой ссылки\n",
    "url_orders_dataset = 'https://cloud-api.yandex.net/v1/disk/public/resources/download' + \\\n",
    "      '?public_key=' + urllib.parse.quote(link_folder) + \\\n",
    "      '&path=/' + urllib.parse.quote(file_name_orders_dataset)\n",
    "\n",
    "# получаем прямую ссылку\n",
    "response_orders_dataset = requests.get(url_orders_dataset)\n",
    "download_url_orders_dataset = response_orders_dataset.json()['href']\n",
    "\n",
    "# читаем в датафрейм\n",
    "orders_dataset = pd.read_csv(download_url_orders_dataset, \n",
    "                 parse_dates=['order_purchase_timestamp', 'order_approved_at', 'order_delivered_carrier_date', 'order_delivered_customer_date', 'order_estimated_delivery_date'])\n"
   ]
  },
  {
   "cell_type": "code",
   "execution_count": 97,
   "metadata": {},
   "outputs": [],
   "source": [
    "# прочитаем файл order_items\n",
    "# формируем URL для получения прямой ссылки\n",
    "url_order_items = 'https://cloud-api.yandex.net/v1/disk/public/resources/download' + \\\n",
    "      '?public_key=' + urllib.parse.quote(link_folder) + \\\n",
    "      '&path=/' + urllib.parse.quote(file_name_order_items)\n",
    "\n",
    "# получаем прямую ссылку\n",
    "response_order_items = requests.get(url_order_items)\n",
    "download_url_order_items = response_order_items.json()['href']\n",
    "\n",
    "# читаем в датафрейм\n",
    "order_items = pd.read_csv(download_url_order_items, \n",
    "                         parse_dates=['shipping_limit_date'])\n"
   ]
  },
  {
   "cell_type": "markdown",
   "metadata": {},
   "source": [
    "## customers - таблица с уникальными идентификаторами пользователей"
   ]
  },
  {
   "cell_type": "code",
   "execution_count": 98,
   "metadata": {},
   "outputs": [
    {
     "data": {
      "text/html": [
       "<div>\n",
       "<style scoped>\n",
       "    .dataframe tbody tr th:only-of-type {\n",
       "        vertical-align: middle;\n",
       "    }\n",
       "\n",
       "    .dataframe tbody tr th {\n",
       "        vertical-align: top;\n",
       "    }\n",
       "\n",
       "    .dataframe thead th {\n",
       "        text-align: right;\n",
       "    }\n",
       "</style>\n",
       "<table border=\"1\" class=\"dataframe\">\n",
       "  <thead>\n",
       "    <tr style=\"text-align: right;\">\n",
       "      <th></th>\n",
       "      <th>customer_id</th>\n",
       "      <th>customer_unique_id</th>\n",
       "      <th>customer_zip_code_prefix</th>\n",
       "      <th>customer_city</th>\n",
       "      <th>customer_state</th>\n",
       "    </tr>\n",
       "  </thead>\n",
       "  <tbody>\n",
       "    <tr>\n",
       "      <th>0</th>\n",
       "      <td>06b8999e2fba1a1fbc88172c00ba8bc7</td>\n",
       "      <td>861eff4711a542e4b93843c6dd7febb0</td>\n",
       "      <td>14409</td>\n",
       "      <td>franca</td>\n",
       "      <td>SP</td>\n",
       "    </tr>\n",
       "    <tr>\n",
       "      <th>1</th>\n",
       "      <td>18955e83d337fd6b2def6b18a428ac77</td>\n",
       "      <td>290c77bc529b7ac935b93aa66c333dc3</td>\n",
       "      <td>9790</td>\n",
       "      <td>sao bernardo do campo</td>\n",
       "      <td>SP</td>\n",
       "    </tr>\n",
       "  </tbody>\n",
       "</table>\n",
       "</div>"
      ],
      "text/plain": [
       "                        customer_id                customer_unique_id  \\\n",
       "0  06b8999e2fba1a1fbc88172c00ba8bc7  861eff4711a542e4b93843c6dd7febb0   \n",
       "1  18955e83d337fd6b2def6b18a428ac77  290c77bc529b7ac935b93aa66c333dc3   \n",
       "\n",
       "   customer_zip_code_prefix          customer_city customer_state  \n",
       "0                     14409                 franca             SP  \n",
       "1                      9790  sao bernardo do campo             SP  "
      ]
     },
     "execution_count": 98,
     "metadata": {},
     "output_type": "execute_result"
    }
   ],
   "source": [
    "customers.head(2)"
   ]
  },
  {
   "cell_type": "code",
   "execution_count": 99,
   "metadata": {},
   "outputs": [
    {
     "name": "stdout",
     "output_type": "stream",
     "text": [
      "93099\n",
      "2997\n",
      "0.032191538040150805\n"
     ]
    }
   ],
   "source": [
    "# посмотрим, сколько людей сделало 1 заказ и сколько более 1 заказа, а также долю повторных заказов\n",
    "count_1_ord = customers.groupby('customer_unique_id',as_index=False)['customer_id'].count().query(\"customer_id == 1\").count()\n",
    "count_more_1 = customers.groupby('customer_unique_id',as_index=False)['customer_id'].count().query(\"customer_id > 1\").count()\n",
    "print(count_1_ord.customer_unique_id)\n",
    "print(count_more_1.customer_unique_id)\n",
    "print(count_more_1.customer_unique_id / count_1_ord.customer_unique_id)"
   ]
  },
  {
   "cell_type": "code",
   "execution_count": 100,
   "metadata": {},
   "outputs": [
    {
     "name": "stdout",
     "output_type": "stream",
     "text": [
      "<class 'pandas.core.frame.DataFrame'>\n",
      "RangeIndex: 99441 entries, 0 to 99440\n",
      "Data columns (total 5 columns):\n",
      " #   Column                    Non-Null Count  Dtype \n",
      "---  ------                    --------------  ----- \n",
      " 0   customer_id               99441 non-null  object\n",
      " 1   customer_unique_id        99441 non-null  object\n",
      " 2   customer_zip_code_prefix  99441 non-null  int64 \n",
      " 3   customer_city             99441 non-null  object\n",
      " 4   customer_state            99441 non-null  object\n",
      "dtypes: int64(1), object(4)\n",
      "memory usage: 3.8+ MB\n"
     ]
    }
   ],
   "source": [
    "customers.info()"
   ]
  },
  {
   "cell_type": "code",
   "execution_count": 101,
   "metadata": {},
   "outputs": [
    {
     "data": {
      "text/plain": [
       "(99441, 5)"
      ]
     },
     "execution_count": 101,
     "metadata": {},
     "output_type": "execute_result"
    }
   ],
   "source": [
    "customers.shape"
   ]
  },
  {
   "cell_type": "code",
   "execution_count": 102,
   "metadata": {},
   "outputs": [
    {
     "data": {
      "text/plain": [
       "customer_id                 0\n",
       "customer_unique_id          0\n",
       "customer_zip_code_prefix    0\n",
       "customer_city               0\n",
       "customer_state              0\n",
       "dtype: int64"
      ]
     },
     "execution_count": 102,
     "metadata": {},
     "output_type": "execute_result"
    }
   ],
   "source": [
    "customers.isna().sum()"
   ]
  },
  {
   "cell_type": "markdown",
   "metadata": {},
   "source": [
    "## orders_dataset —  таблица заказов"
   ]
  },
  {
   "cell_type": "code",
   "execution_count": 103,
   "metadata": {},
   "outputs": [
    {
     "data": {
      "text/html": [
       "<div>\n",
       "<style scoped>\n",
       "    .dataframe tbody tr th:only-of-type {\n",
       "        vertical-align: middle;\n",
       "    }\n",
       "\n",
       "    .dataframe tbody tr th {\n",
       "        vertical-align: top;\n",
       "    }\n",
       "\n",
       "    .dataframe thead th {\n",
       "        text-align: right;\n",
       "    }\n",
       "</style>\n",
       "<table border=\"1\" class=\"dataframe\">\n",
       "  <thead>\n",
       "    <tr style=\"text-align: right;\">\n",
       "      <th></th>\n",
       "      <th>order_id</th>\n",
       "      <th>customer_id</th>\n",
       "      <th>order_status</th>\n",
       "      <th>order_purchase_timestamp</th>\n",
       "      <th>order_approved_at</th>\n",
       "      <th>order_delivered_carrier_date</th>\n",
       "      <th>order_delivered_customer_date</th>\n",
       "      <th>order_estimated_delivery_date</th>\n",
       "    </tr>\n",
       "  </thead>\n",
       "  <tbody>\n",
       "    <tr>\n",
       "      <th>0</th>\n",
       "      <td>e481f51cbdc54678b7cc49136f2d6af7</td>\n",
       "      <td>9ef432eb6251297304e76186b10a928d</td>\n",
       "      <td>delivered</td>\n",
       "      <td>2017-10-02 10:56:33</td>\n",
       "      <td>2017-10-02 11:07:15</td>\n",
       "      <td>2017-10-04 19:55:00</td>\n",
       "      <td>2017-10-10 21:25:13</td>\n",
       "      <td>2017-10-18</td>\n",
       "    </tr>\n",
       "    <tr>\n",
       "      <th>1</th>\n",
       "      <td>53cdb2fc8bc7dce0b6741e2150273451</td>\n",
       "      <td>b0830fb4747a6c6d20dea0b8c802d7ef</td>\n",
       "      <td>delivered</td>\n",
       "      <td>2018-07-24 20:41:37</td>\n",
       "      <td>2018-07-26 03:24:27</td>\n",
       "      <td>2018-07-26 14:31:00</td>\n",
       "      <td>2018-08-07 15:27:45</td>\n",
       "      <td>2018-08-13</td>\n",
       "    </tr>\n",
       "  </tbody>\n",
       "</table>\n",
       "</div>"
      ],
      "text/plain": [
       "                           order_id                       customer_id  \\\n",
       "0  e481f51cbdc54678b7cc49136f2d6af7  9ef432eb6251297304e76186b10a928d   \n",
       "1  53cdb2fc8bc7dce0b6741e2150273451  b0830fb4747a6c6d20dea0b8c802d7ef   \n",
       "\n",
       "  order_status order_purchase_timestamp   order_approved_at  \\\n",
       "0    delivered      2017-10-02 10:56:33 2017-10-02 11:07:15   \n",
       "1    delivered      2018-07-24 20:41:37 2018-07-26 03:24:27   \n",
       "\n",
       "  order_delivered_carrier_date order_delivered_customer_date  \\\n",
       "0          2017-10-04 19:55:00           2017-10-10 21:25:13   \n",
       "1          2018-07-26 14:31:00           2018-08-07 15:27:45   \n",
       "\n",
       "  order_estimated_delivery_date  \n",
       "0                    2017-10-18  \n",
       "1                    2018-08-13  "
      ]
     },
     "execution_count": 103,
     "metadata": {},
     "output_type": "execute_result"
    }
   ],
   "source": [
    "orders_dataset.head(2)"
   ]
  },
  {
   "cell_type": "code",
   "execution_count": 104,
   "metadata": {},
   "outputs": [
    {
     "data": {
      "text/html": [
       "<div>\n",
       "<style scoped>\n",
       "    .dataframe tbody tr th:only-of-type {\n",
       "        vertical-align: middle;\n",
       "    }\n",
       "\n",
       "    .dataframe tbody tr th {\n",
       "        vertical-align: top;\n",
       "    }\n",
       "\n",
       "    .dataframe thead th {\n",
       "        text-align: right;\n",
       "    }\n",
       "</style>\n",
       "<table border=\"1\" class=\"dataframe\">\n",
       "  <thead>\n",
       "    <tr style=\"text-align: right;\">\n",
       "      <th></th>\n",
       "      <th>order_id</th>\n",
       "      <th>customer_id</th>\n",
       "      <th>order_status</th>\n",
       "      <th>order_purchase_timestamp</th>\n",
       "      <th>order_approved_at</th>\n",
       "      <th>order_delivered_carrier_date</th>\n",
       "      <th>order_delivered_customer_date</th>\n",
       "      <th>order_estimated_delivery_date</th>\n",
       "    </tr>\n",
       "  </thead>\n",
       "  <tbody>\n",
       "    <tr>\n",
       "      <th>36265</th>\n",
       "      <td>00143d0f86d6fbd9f9b38ab440ac16f5</td>\n",
       "      <td>2e45292979b9b2700ea09560eeb0f803</td>\n",
       "      <td>delivered</td>\n",
       "      <td>2017-10-16 15:29:43</td>\n",
       "      <td>2017-10-16 16:07:52</td>\n",
       "      <td>2017-10-16 23:04:43</td>\n",
       "      <td>2017-10-27 18:43:56</td>\n",
       "      <td>2017-11-06</td>\n",
       "    </tr>\n",
       "  </tbody>\n",
       "</table>\n",
       "</div>"
      ],
      "text/plain": [
       "                               order_id                       customer_id  \\\n",
       "36265  00143d0f86d6fbd9f9b38ab440ac16f5  2e45292979b9b2700ea09560eeb0f803   \n",
       "\n",
       "      order_status order_purchase_timestamp   order_approved_at  \\\n",
       "36265    delivered      2017-10-16 15:29:43 2017-10-16 16:07:52   \n",
       "\n",
       "      order_delivered_carrier_date order_delivered_customer_date  \\\n",
       "36265          2017-10-16 23:04:43           2017-10-27 18:43:56   \n",
       "\n",
       "      order_estimated_delivery_date  \n",
       "36265                    2017-11-06  "
      ]
     },
     "execution_count": 104,
     "metadata": {},
     "output_type": "execute_result"
    }
   ],
   "source": [
    "orders_dataset.query(\"order_id == '00143d0f86d6fbd9f9b38ab440ac16f5'\")"
   ]
  },
  {
   "cell_type": "code",
   "execution_count": 105,
   "metadata": {},
   "outputs": [
    {
     "name": "stdout",
     "output_type": "stream",
     "text": [
      "<class 'pandas.core.frame.DataFrame'>\n",
      "RangeIndex: 99441 entries, 0 to 99440\n",
      "Data columns (total 8 columns):\n",
      " #   Column                         Non-Null Count  Dtype         \n",
      "---  ------                         --------------  -----         \n",
      " 0   order_id                       99441 non-null  object        \n",
      " 1   customer_id                    99441 non-null  object        \n",
      " 2   order_status                   99441 non-null  object        \n",
      " 3   order_purchase_timestamp       99441 non-null  datetime64[ns]\n",
      " 4   order_approved_at              99281 non-null  datetime64[ns]\n",
      " 5   order_delivered_carrier_date   97658 non-null  datetime64[ns]\n",
      " 6   order_delivered_customer_date  96476 non-null  datetime64[ns]\n",
      " 7   order_estimated_delivery_date  99441 non-null  datetime64[ns]\n",
      "dtypes: datetime64[ns](5), object(3)\n",
      "memory usage: 6.1+ MB\n"
     ]
    }
   ],
   "source": [
    "orders_dataset.info()"
   ]
  },
  {
   "cell_type": "code",
   "execution_count": 106,
   "metadata": {},
   "outputs": [
    {
     "data": {
      "text/plain": [
       "array(['delivered', 'invoiced', 'shipped', 'processing', 'unavailable',\n",
       "       'canceled', 'created', 'approved'], dtype=object)"
      ]
     },
     "execution_count": 106,
     "metadata": {},
     "output_type": "execute_result"
    }
   ],
   "source": [
    "# посмотрим, какие статусы заказов имеются в данных\n",
    "orders_dataset.order_status.unique()"
   ]
  },
  {
   "cell_type": "code",
   "execution_count": 107,
   "metadata": {},
   "outputs": [
    {
     "data": {
      "text/plain": [
       "(99441, 8)"
      ]
     },
     "execution_count": 107,
     "metadata": {},
     "output_type": "execute_result"
    }
   ],
   "source": [
    "orders_dataset.shape"
   ]
  },
  {
   "cell_type": "code",
   "execution_count": 108,
   "metadata": {},
   "outputs": [
    {
     "data": {
      "text/plain": [
       "order_id                            0\n",
       "customer_id                         0\n",
       "order_status                        0\n",
       "order_purchase_timestamp            0\n",
       "order_approved_at                 160\n",
       "order_delivered_carrier_date     1783\n",
       "order_delivered_customer_date    2965\n",
       "order_estimated_delivery_date       0\n",
       "dtype: int64"
      ]
     },
     "execution_count": 108,
     "metadata": {},
     "output_type": "execute_result"
    }
   ],
   "source": [
    "orders_dataset.isna().sum()"
   ]
  },
  {
   "cell_type": "code",
   "execution_count": 109,
   "metadata": {},
   "outputs": [],
   "source": [
    "# Так как данные с пропусками могут помешать некоторым исследованиям, создадим копию датафрейма без пропущенных значений\n",
    "orders = orders_dataset.copy()\n",
    "orders.dropna(subset=['order_approved_at', 'order_delivered_carrier_date', 'order_delivered_customer_date'], inplace=True)"
   ]
  },
  {
   "cell_type": "markdown",
   "metadata": {},
   "source": [
    "## order_items — товарные позиции, входящие в заказы"
   ]
  },
  {
   "cell_type": "code",
   "execution_count": 110,
   "metadata": {},
   "outputs": [
    {
     "data": {
      "text/html": [
       "<div>\n",
       "<style scoped>\n",
       "    .dataframe tbody tr th:only-of-type {\n",
       "        vertical-align: middle;\n",
       "    }\n",
       "\n",
       "    .dataframe tbody tr th {\n",
       "        vertical-align: top;\n",
       "    }\n",
       "\n",
       "    .dataframe thead th {\n",
       "        text-align: right;\n",
       "    }\n",
       "</style>\n",
       "<table border=\"1\" class=\"dataframe\">\n",
       "  <thead>\n",
       "    <tr style=\"text-align: right;\">\n",
       "      <th></th>\n",
       "      <th>order_id</th>\n",
       "      <th>order_item_id</th>\n",
       "      <th>product_id</th>\n",
       "      <th>seller_id</th>\n",
       "      <th>shipping_limit_date</th>\n",
       "      <th>price</th>\n",
       "      <th>freight_value</th>\n",
       "    </tr>\n",
       "  </thead>\n",
       "  <tbody>\n",
       "    <tr>\n",
       "      <th>0</th>\n",
       "      <td>00010242fe8c5a6d1ba2dd792cb16214</td>\n",
       "      <td>1</td>\n",
       "      <td>4244733e06e7ecb4970a6e2683c13e61</td>\n",
       "      <td>48436dade18ac8b2bce089ec2a041202</td>\n",
       "      <td>2017-09-19 09:45:35</td>\n",
       "      <td>58.9</td>\n",
       "      <td>13.29</td>\n",
       "    </tr>\n",
       "    <tr>\n",
       "      <th>1</th>\n",
       "      <td>00018f77f2f0320c557190d7a144bdd3</td>\n",
       "      <td>1</td>\n",
       "      <td>e5f2d52b802189ee658865ca93d83a8f</td>\n",
       "      <td>dd7ddc04e1b6c2c614352b383efe2d36</td>\n",
       "      <td>2017-05-03 11:05:13</td>\n",
       "      <td>239.9</td>\n",
       "      <td>19.93</td>\n",
       "    </tr>\n",
       "  </tbody>\n",
       "</table>\n",
       "</div>"
      ],
      "text/plain": [
       "                           order_id  order_item_id  \\\n",
       "0  00010242fe8c5a6d1ba2dd792cb16214              1   \n",
       "1  00018f77f2f0320c557190d7a144bdd3              1   \n",
       "\n",
       "                         product_id                         seller_id  \\\n",
       "0  4244733e06e7ecb4970a6e2683c13e61  48436dade18ac8b2bce089ec2a041202   \n",
       "1  e5f2d52b802189ee658865ca93d83a8f  dd7ddc04e1b6c2c614352b383efe2d36   \n",
       "\n",
       "  shipping_limit_date  price  freight_value  \n",
       "0 2017-09-19 09:45:35   58.9          13.29  \n",
       "1 2017-05-03 11:05:13  239.9          19.93  "
      ]
     },
     "execution_count": 110,
     "metadata": {},
     "output_type": "execute_result"
    }
   ],
   "source": [
    "order_items.head(2)"
   ]
  },
  {
   "cell_type": "code",
   "execution_count": 111,
   "metadata": {},
   "outputs": [
    {
     "name": "stdout",
     "output_type": "stream",
     "text": [
      "<class 'pandas.core.frame.DataFrame'>\n",
      "RangeIndex: 112650 entries, 0 to 112649\n",
      "Data columns (total 7 columns):\n",
      " #   Column               Non-Null Count   Dtype         \n",
      "---  ------               --------------   -----         \n",
      " 0   order_id             112650 non-null  object        \n",
      " 1   order_item_id        112650 non-null  int64         \n",
      " 2   product_id           112650 non-null  object        \n",
      " 3   seller_id            112650 non-null  object        \n",
      " 4   shipping_limit_date  112650 non-null  datetime64[ns]\n",
      " 5   price                112650 non-null  float64       \n",
      " 6   freight_value        112650 non-null  float64       \n",
      "dtypes: datetime64[ns](1), float64(2), int64(1), object(3)\n",
      "memory usage: 6.0+ MB\n"
     ]
    }
   ],
   "source": [
    "order_items.info()"
   ]
  },
  {
   "cell_type": "code",
   "execution_count": 112,
   "metadata": {},
   "outputs": [
    {
     "data": {
      "text/plain": [
       "(112650, 7)"
      ]
     },
     "execution_count": 112,
     "metadata": {},
     "output_type": "execute_result"
    }
   ],
   "source": [
    "order_items.shape"
   ]
  },
  {
   "cell_type": "code",
   "execution_count": 113,
   "metadata": {},
   "outputs": [
    {
     "data": {
      "text/plain": [
       "order_id               0\n",
       "order_item_id          0\n",
       "product_id             0\n",
       "seller_id              0\n",
       "shipping_limit_date    0\n",
       "price                  0\n",
       "freight_value          0\n",
       "dtype: int64"
      ]
     },
     "execution_count": 113,
     "metadata": {},
     "output_type": "execute_result"
    }
   ],
   "source": [
    "order_items.isna().sum()"
   ]
  },
  {
   "cell_type": "markdown",
   "metadata": {},
   "source": [
    "# Задача 1. Оценить месячный retention в оформление заказа с помощью когортного анализа.\n",
    "\n",
    "В рамках исследования решим следующие задачи:\n",
    "\n",
    "Исследовать датасет и определить, какой вид заказа будет учитываться в retention.\n",
    "Построить месячный retention.\n",
    "Проанализировать, чему равен медианный retention 1-го месяца.\n",
    "Найти когорту с самым высоким retention на 3-й месяц.."
   ]
  },
  {
   "cell_type": "markdown",
   "metadata": {},
   "source": [
    "### Проведем исследование данных для решения первой задачи"
   ]
  },
  {
   "cell_type": "code",
   "execution_count": 114,
   "metadata": {},
   "outputs": [],
   "source": [
    "# объединим customers и orders для выявления связи между уникальным пользователем и количеством заказов\n",
    "cust_ord = pd.merge(customers, orders, on='customer_id', how='inner')\n",
    "# получим единый датафрейм для всех данных\n",
    "full_df = pd.merge(cust_ord, order_items, on='order_id', how='inner')"
   ]
  },
  {
   "cell_type": "code",
   "execution_count": 115,
   "metadata": {},
   "outputs": [
    {
     "data": {
      "text/html": [
       "<div>\n",
       "<style scoped>\n",
       "    .dataframe tbody tr th:only-of-type {\n",
       "        vertical-align: middle;\n",
       "    }\n",
       "\n",
       "    .dataframe tbody tr th {\n",
       "        vertical-align: top;\n",
       "    }\n",
       "\n",
       "    .dataframe thead th {\n",
       "        text-align: right;\n",
       "    }\n",
       "</style>\n",
       "<table border=\"1\" class=\"dataframe\">\n",
       "  <thead>\n",
       "    <tr style=\"text-align: right;\">\n",
       "      <th></th>\n",
       "      <th>customer_id</th>\n",
       "      <th>customer_unique_id</th>\n",
       "      <th>customer_zip_code_prefix</th>\n",
       "      <th>customer_city</th>\n",
       "      <th>customer_state</th>\n",
       "      <th>order_id</th>\n",
       "      <th>order_status</th>\n",
       "      <th>order_purchase_timestamp</th>\n",
       "      <th>order_approved_at</th>\n",
       "      <th>order_delivered_carrier_date</th>\n",
       "      <th>order_delivered_customer_date</th>\n",
       "      <th>order_estimated_delivery_date</th>\n",
       "    </tr>\n",
       "  </thead>\n",
       "  <tbody>\n",
       "    <tr>\n",
       "      <th>0</th>\n",
       "      <td>06b8999e2fba1a1fbc88172c00ba8bc7</td>\n",
       "      <td>861eff4711a542e4b93843c6dd7febb0</td>\n",
       "      <td>14409</td>\n",
       "      <td>franca</td>\n",
       "      <td>SP</td>\n",
       "      <td>00e7ee1b050b8499577073aeb2a297a1</td>\n",
       "      <td>delivered</td>\n",
       "      <td>2017-05-16 15:05:35</td>\n",
       "      <td>2017-05-16 15:22:12</td>\n",
       "      <td>2017-05-23 10:47:57</td>\n",
       "      <td>2017-05-25 10:35:35</td>\n",
       "      <td>2017-06-05</td>\n",
       "    </tr>\n",
       "    <tr>\n",
       "      <th>1</th>\n",
       "      <td>18955e83d337fd6b2def6b18a428ac77</td>\n",
       "      <td>290c77bc529b7ac935b93aa66c333dc3</td>\n",
       "      <td>9790</td>\n",
       "      <td>sao bernardo do campo</td>\n",
       "      <td>SP</td>\n",
       "      <td>29150127e6685892b6eab3eec79f59c7</td>\n",
       "      <td>delivered</td>\n",
       "      <td>2018-01-12 20:48:24</td>\n",
       "      <td>2018-01-12 20:58:32</td>\n",
       "      <td>2018-01-15 17:14:59</td>\n",
       "      <td>2018-01-29 12:41:19</td>\n",
       "      <td>2018-02-06</td>\n",
       "    </tr>\n",
       "  </tbody>\n",
       "</table>\n",
       "</div>"
      ],
      "text/plain": [
       "                        customer_id                customer_unique_id  \\\n",
       "0  06b8999e2fba1a1fbc88172c00ba8bc7  861eff4711a542e4b93843c6dd7febb0   \n",
       "1  18955e83d337fd6b2def6b18a428ac77  290c77bc529b7ac935b93aa66c333dc3   \n",
       "\n",
       "   customer_zip_code_prefix          customer_city customer_state  \\\n",
       "0                     14409                 franca             SP   \n",
       "1                      9790  sao bernardo do campo             SP   \n",
       "\n",
       "                           order_id order_status order_purchase_timestamp  \\\n",
       "0  00e7ee1b050b8499577073aeb2a297a1    delivered      2017-05-16 15:05:35   \n",
       "1  29150127e6685892b6eab3eec79f59c7    delivered      2018-01-12 20:48:24   \n",
       "\n",
       "    order_approved_at order_delivered_carrier_date  \\\n",
       "0 2017-05-16 15:22:12          2017-05-23 10:47:57   \n",
       "1 2018-01-12 20:58:32          2018-01-15 17:14:59   \n",
       "\n",
       "  order_delivered_customer_date order_estimated_delivery_date  \n",
       "0           2017-05-25 10:35:35                    2017-06-05  \n",
       "1           2018-01-29 12:41:19                    2018-02-06  "
      ]
     },
     "execution_count": 115,
     "metadata": {},
     "output_type": "execute_result"
    }
   ],
   "source": [
    "cust_ord.head(2)"
   ]
  },
  {
   "cell_type": "code",
   "execution_count": 116,
   "metadata": {},
   "outputs": [
    {
     "data": {
      "text/html": [
       "<div>\n",
       "<style scoped>\n",
       "    .dataframe tbody tr th:only-of-type {\n",
       "        vertical-align: middle;\n",
       "    }\n",
       "\n",
       "    .dataframe tbody tr th {\n",
       "        vertical-align: top;\n",
       "    }\n",
       "\n",
       "    .dataframe thead th {\n",
       "        text-align: right;\n",
       "    }\n",
       "</style>\n",
       "<table border=\"1\" class=\"dataframe\">\n",
       "  <thead>\n",
       "    <tr style=\"text-align: right;\">\n",
       "      <th></th>\n",
       "      <th>customer_id</th>\n",
       "      <th>customer_unique_id</th>\n",
       "      <th>customer_zip_code_prefix</th>\n",
       "      <th>customer_city</th>\n",
       "      <th>customer_state</th>\n",
       "      <th>order_id</th>\n",
       "      <th>order_status</th>\n",
       "      <th>order_purchase_timestamp</th>\n",
       "      <th>order_approved_at</th>\n",
       "      <th>order_delivered_carrier_date</th>\n",
       "      <th>order_delivered_customer_date</th>\n",
       "      <th>order_estimated_delivery_date</th>\n",
       "    </tr>\n",
       "  </thead>\n",
       "  <tbody>\n",
       "    <tr>\n",
       "      <th>56518</th>\n",
       "      <td>2e45292979b9b2700ea09560eeb0f803</td>\n",
       "      <td>bb8a37225e0279ac8a274c9765617eaf</td>\n",
       "      <td>74663</td>\n",
       "      <td>goiania</td>\n",
       "      <td>GO</td>\n",
       "      <td>00143d0f86d6fbd9f9b38ab440ac16f5</td>\n",
       "      <td>delivered</td>\n",
       "      <td>2017-10-16 15:29:43</td>\n",
       "      <td>2017-10-16 16:07:52</td>\n",
       "      <td>2017-10-16 23:04:43</td>\n",
       "      <td>2017-10-27 18:43:56</td>\n",
       "      <td>2017-11-06</td>\n",
       "    </tr>\n",
       "  </tbody>\n",
       "</table>\n",
       "</div>"
      ],
      "text/plain": [
       "                            customer_id                customer_unique_id  \\\n",
       "56518  2e45292979b9b2700ea09560eeb0f803  bb8a37225e0279ac8a274c9765617eaf   \n",
       "\n",
       "       customer_zip_code_prefix customer_city customer_state  \\\n",
       "56518                     74663       goiania             GO   \n",
       "\n",
       "                               order_id order_status order_purchase_timestamp  \\\n",
       "56518  00143d0f86d6fbd9f9b38ab440ac16f5    delivered      2017-10-16 15:29:43   \n",
       "\n",
       "        order_approved_at order_delivered_carrier_date  \\\n",
       "56518 2017-10-16 16:07:52          2017-10-16 23:04:43   \n",
       "\n",
       "      order_delivered_customer_date order_estimated_delivery_date  \n",
       "56518           2017-10-27 18:43:56                    2017-11-06  "
      ]
     },
     "execution_count": 116,
     "metadata": {},
     "output_type": "execute_result"
    }
   ],
   "source": [
    "# посмотрим структуру данных\n",
    "cust_ord.query(\"order_id == '00143d0f86d6fbd9f9b38ab440ac16f5'\")"
   ]
  },
  {
   "cell_type": "code",
   "execution_count": 117,
   "metadata": {},
   "outputs": [
    {
     "data": {
      "text/html": [
       "<div>\n",
       "<style scoped>\n",
       "    .dataframe tbody tr th:only-of-type {\n",
       "        vertical-align: middle;\n",
       "    }\n",
       "\n",
       "    .dataframe tbody tr th {\n",
       "        vertical-align: top;\n",
       "    }\n",
       "\n",
       "    .dataframe thead th {\n",
       "        text-align: right;\n",
       "    }\n",
       "</style>\n",
       "<table border=\"1\" class=\"dataframe\">\n",
       "  <thead>\n",
       "    <tr style=\"text-align: right;\">\n",
       "      <th></th>\n",
       "      <th>order_id</th>\n",
       "    </tr>\n",
       "    <tr>\n",
       "      <th>customer_unique_id</th>\n",
       "      <th></th>\n",
       "    </tr>\n",
       "  </thead>\n",
       "  <tbody>\n",
       "    <tr>\n",
       "      <th>fffea47cd6d3cc0a88bd621562a9d061</th>\n",
       "      <td>1</td>\n",
       "    </tr>\n",
       "    <tr>\n",
       "      <th>00172711b30d52eea8b313a7f2cced02</th>\n",
       "      <td>1</td>\n",
       "    </tr>\n",
       "    <tr>\n",
       "      <th>00191a9719ef48ebb5860b130347bf33</th>\n",
       "      <td>1</td>\n",
       "    </tr>\n",
       "    <tr>\n",
       "      <th>001926cef41060fae572e2e7b30bd2a4</th>\n",
       "      <td>1</td>\n",
       "    </tr>\n",
       "    <tr>\n",
       "      <th>001928b561575b2821c92254a2327d06</th>\n",
       "      <td>1</td>\n",
       "    </tr>\n",
       "    <tr>\n",
       "      <th>...</th>\n",
       "      <td>...</td>\n",
       "    </tr>\n",
       "    <tr>\n",
       "      <th>1b6c7548a2a1f9037c1fd3ddfed95f33</th>\n",
       "      <td>7</td>\n",
       "    </tr>\n",
       "    <tr>\n",
       "      <th>6469f99c1f9dfae7733b25662e7f1782</th>\n",
       "      <td>7</td>\n",
       "    </tr>\n",
       "    <tr>\n",
       "      <th>ca77025e7201e3b30c44b472ff346268</th>\n",
       "      <td>7</td>\n",
       "    </tr>\n",
       "    <tr>\n",
       "      <th>3e43e6105506432c953e165fb2acf44c</th>\n",
       "      <td>9</td>\n",
       "    </tr>\n",
       "    <tr>\n",
       "      <th>8d50f5eadf50201ccdcedfb9e2ac8455</th>\n",
       "      <td>15</td>\n",
       "    </tr>\n",
       "  </tbody>\n",
       "</table>\n",
       "<p>93342 rows × 1 columns</p>\n",
       "</div>"
      ],
      "text/plain": [
       "                                  order_id\n",
       "customer_unique_id                        \n",
       "fffea47cd6d3cc0a88bd621562a9d061         1\n",
       "00172711b30d52eea8b313a7f2cced02         1\n",
       "00191a9719ef48ebb5860b130347bf33         1\n",
       "001926cef41060fae572e2e7b30bd2a4         1\n",
       "001928b561575b2821c92254a2327d06         1\n",
       "...                                    ...\n",
       "1b6c7548a2a1f9037c1fd3ddfed95f33         7\n",
       "6469f99c1f9dfae7733b25662e7f1782         7\n",
       "ca77025e7201e3b30c44b472ff346268         7\n",
       "3e43e6105506432c953e165fb2acf44c         9\n",
       "8d50f5eadf50201ccdcedfb9e2ac8455        15\n",
       "\n",
       "[93342 rows x 1 columns]"
      ]
     },
     "execution_count": 117,
     "metadata": {},
     "output_type": "execute_result"
    }
   ],
   "source": [
    "# посмотрим сколько минимально и сколько максимально заказывают люди\n",
    "cust_ord.groupby('customer_unique_id').agg({'order_id':'count'}).sort_values('order_id')"
   ]
  },
  {
   "cell_type": "code",
   "execution_count": 118,
   "metadata": {},
   "outputs": [],
   "source": [
    "#отфильтруем заказы с нужным статусом processing, shipped, delivered, unavailable\n",
    "df_retention = cust_ord.query(\"order_status == ['processing', 'shipped', 'delivered', 'unavailable']\")"
   ]
  },
  {
   "cell_type": "markdown",
   "metadata": {},
   "source": [
    "### Проведем когортный анализ"
   ]
  },
  {
   "cell_type": "code",
   "execution_count": 119,
   "metadata": {},
   "outputs": [],
   "source": [
    "df_ret = df_retention.copy()"
   ]
  },
  {
   "cell_type": "code",
   "execution_count": 120,
   "metadata": {},
   "outputs": [],
   "source": [
    "# Извлечем месяц и день заказа\n",
    "df_ret['month_ord'] = df_ret['order_approved_at'].dt.to_period('M')\n",
    "df_ret['day_ord'] = df_ret['order_approved_at'].dt.to_period('D')"
   ]
  },
  {
   "cell_type": "code",
   "execution_count": 121,
   "metadata": {},
   "outputs": [],
   "source": [
    "# Присвоим когорты на основе даты первого действия для каждого пользователя\n",
    "df_ret['month_cohort'] = df_ret.groupby('customer_unique_id')['order_approved_at'].transform('min').dt.to_period('M')\n",
    "df_ret['day_cohort'] = df_ret.groupby('customer_unique_id')['order_approved_at'].transform('min').dt.to_period('D')"
   ]
  },
  {
   "cell_type": "code",
   "execution_count": 122,
   "metadata": {},
   "outputs": [],
   "source": [
    "# Рассчитаем номер периода в днях (месячные периоды, деля на 30)\n",
    "df_ret['period_number_month'] = np.floor((df_ret.day_ord - df_ret.day_cohort).apply(attrgetter('n')) / 30)"
   ]
  },
  {
   "cell_type": "code",
   "execution_count": 123,
   "metadata": {},
   "outputs": [],
   "source": [
    "# проверим, что периоды верно присвоились\n",
    "#cust_ord.query(\"customer_unique_id == 'ca77025e7201e3b30c44b472ff346268'\")"
   ]
  },
  {
   "cell_type": "code",
   "execution_count": 124,
   "metadata": {},
   "outputs": [
    {
     "data": {
      "text/html": [
       "<div>\n",
       "<style scoped>\n",
       "    .dataframe tbody tr th:only-of-type {\n",
       "        vertical-align: middle;\n",
       "    }\n",
       "\n",
       "    .dataframe tbody tr th {\n",
       "        vertical-align: top;\n",
       "    }\n",
       "\n",
       "    .dataframe thead th {\n",
       "        text-align: right;\n",
       "    }\n",
       "</style>\n",
       "<table border=\"1\" class=\"dataframe\">\n",
       "  <thead>\n",
       "    <tr style=\"text-align: right;\">\n",
       "      <th></th>\n",
       "      <th>customer_id</th>\n",
       "      <th>customer_unique_id</th>\n",
       "      <th>customer_zip_code_prefix</th>\n",
       "      <th>customer_city</th>\n",
       "      <th>customer_state</th>\n",
       "      <th>order_id</th>\n",
       "      <th>order_status</th>\n",
       "      <th>order_purchase_timestamp</th>\n",
       "      <th>order_approved_at</th>\n",
       "      <th>order_delivered_carrier_date</th>\n",
       "      <th>order_delivered_customer_date</th>\n",
       "      <th>order_estimated_delivery_date</th>\n",
       "      <th>month_ord</th>\n",
       "      <th>day_ord</th>\n",
       "      <th>month_cohort</th>\n",
       "      <th>day_cohort</th>\n",
       "      <th>period_number_month</th>\n",
       "    </tr>\n",
       "  </thead>\n",
       "  <tbody>\n",
       "    <tr>\n",
       "      <th>0</th>\n",
       "      <td>06b8999e2fba1a1fbc88172c00ba8bc7</td>\n",
       "      <td>861eff4711a542e4b93843c6dd7febb0</td>\n",
       "      <td>14409</td>\n",
       "      <td>franca</td>\n",
       "      <td>SP</td>\n",
       "      <td>00e7ee1b050b8499577073aeb2a297a1</td>\n",
       "      <td>delivered</td>\n",
       "      <td>2017-05-16 15:05:35</td>\n",
       "      <td>2017-05-16 15:22:12</td>\n",
       "      <td>2017-05-23 10:47:57</td>\n",
       "      <td>2017-05-25 10:35:35</td>\n",
       "      <td>2017-06-05</td>\n",
       "      <td>2017-05</td>\n",
       "      <td>2017-05-16</td>\n",
       "      <td>2017-05</td>\n",
       "      <td>2017-05-16</td>\n",
       "      <td>0.0</td>\n",
       "    </tr>\n",
       "    <tr>\n",
       "      <th>1</th>\n",
       "      <td>18955e83d337fd6b2def6b18a428ac77</td>\n",
       "      <td>290c77bc529b7ac935b93aa66c333dc3</td>\n",
       "      <td>9790</td>\n",
       "      <td>sao bernardo do campo</td>\n",
       "      <td>SP</td>\n",
       "      <td>29150127e6685892b6eab3eec79f59c7</td>\n",
       "      <td>delivered</td>\n",
       "      <td>2018-01-12 20:48:24</td>\n",
       "      <td>2018-01-12 20:58:32</td>\n",
       "      <td>2018-01-15 17:14:59</td>\n",
       "      <td>2018-01-29 12:41:19</td>\n",
       "      <td>2018-02-06</td>\n",
       "      <td>2018-01</td>\n",
       "      <td>2018-01-12</td>\n",
       "      <td>2018-01</td>\n",
       "      <td>2018-01-12</td>\n",
       "      <td>0.0</td>\n",
       "    </tr>\n",
       "  </tbody>\n",
       "</table>\n",
       "</div>"
      ],
      "text/plain": [
       "                        customer_id                customer_unique_id  \\\n",
       "0  06b8999e2fba1a1fbc88172c00ba8bc7  861eff4711a542e4b93843c6dd7febb0   \n",
       "1  18955e83d337fd6b2def6b18a428ac77  290c77bc529b7ac935b93aa66c333dc3   \n",
       "\n",
       "   customer_zip_code_prefix          customer_city customer_state  \\\n",
       "0                     14409                 franca             SP   \n",
       "1                      9790  sao bernardo do campo             SP   \n",
       "\n",
       "                           order_id order_status order_purchase_timestamp  \\\n",
       "0  00e7ee1b050b8499577073aeb2a297a1    delivered      2017-05-16 15:05:35   \n",
       "1  29150127e6685892b6eab3eec79f59c7    delivered      2018-01-12 20:48:24   \n",
       "\n",
       "    order_approved_at order_delivered_carrier_date  \\\n",
       "0 2017-05-16 15:22:12          2017-05-23 10:47:57   \n",
       "1 2018-01-12 20:58:32          2018-01-15 17:14:59   \n",
       "\n",
       "  order_delivered_customer_date order_estimated_delivery_date month_ord  \\\n",
       "0           2017-05-25 10:35:35                    2017-06-05   2017-05   \n",
       "1           2018-01-29 12:41:19                    2018-02-06   2018-01   \n",
       "\n",
       "      day_ord month_cohort  day_cohort  period_number_month  \n",
       "0  2017-05-16      2017-05  2017-05-16                  0.0  \n",
       "1  2018-01-12      2018-01  2018-01-12                  0.0  "
      ]
     },
     "execution_count": 124,
     "metadata": {},
     "output_type": "execute_result"
    }
   ],
   "source": [
    "df_ret.head(2)"
   ]
  },
  {
   "cell_type": "code",
   "execution_count": 125,
   "metadata": {},
   "outputs": [],
   "source": [
    "# Агрегируем данные по когортам и рассчитанному номеру периода (в месяцах)\n",
    "df_cohort = df_ret.groupby(['month_cohort', 'period_number_month']).agg(n_customers=('customer_unique_id', 'nunique')).reset_index()"
   ]
  },
  {
   "cell_type": "code",
   "execution_count": 126,
   "metadata": {},
   "outputs": [
    {
     "data": {
      "text/html": [
       "<div>\n",
       "<style scoped>\n",
       "    .dataframe tbody tr th:only-of-type {\n",
       "        vertical-align: middle;\n",
       "    }\n",
       "\n",
       "    .dataframe tbody tr th {\n",
       "        vertical-align: top;\n",
       "    }\n",
       "\n",
       "    .dataframe thead th {\n",
       "        text-align: right;\n",
       "    }\n",
       "</style>\n",
       "<table border=\"1\" class=\"dataframe\">\n",
       "  <thead>\n",
       "    <tr style=\"text-align: right;\">\n",
       "      <th></th>\n",
       "      <th>month_cohort</th>\n",
       "      <th>period_number_month</th>\n",
       "      <th>n_customers</th>\n",
       "    </tr>\n",
       "  </thead>\n",
       "  <tbody>\n",
       "    <tr>\n",
       "      <th>0</th>\n",
       "      <td>2016-09</td>\n",
       "      <td>0.0</td>\n",
       "      <td>1</td>\n",
       "    </tr>\n",
       "    <tr>\n",
       "      <th>1</th>\n",
       "      <td>2016-10</td>\n",
       "      <td>0.0</td>\n",
       "      <td>262</td>\n",
       "    </tr>\n",
       "    <tr>\n",
       "      <th>2</th>\n",
       "      <td>2016-10</td>\n",
       "      <td>6.0</td>\n",
       "      <td>1</td>\n",
       "    </tr>\n",
       "    <tr>\n",
       "      <th>3</th>\n",
       "      <td>2016-10</td>\n",
       "      <td>9.0</td>\n",
       "      <td>1</td>\n",
       "    </tr>\n",
       "    <tr>\n",
       "      <th>4</th>\n",
       "      <td>2016-10</td>\n",
       "      <td>11.0</td>\n",
       "      <td>1</td>\n",
       "    </tr>\n",
       "  </tbody>\n",
       "</table>\n",
       "</div>"
      ],
      "text/plain": [
       "  month_cohort  period_number_month  n_customers\n",
       "0      2016-09                  0.0            1\n",
       "1      2016-10                  0.0          262\n",
       "2      2016-10                  6.0            1\n",
       "3      2016-10                  9.0            1\n",
       "4      2016-10                 11.0            1"
      ]
     },
     "execution_count": 126,
     "metadata": {},
     "output_type": "execute_result"
    }
   ],
   "source": [
    "df_cohort.head()"
   ]
  },
  {
   "cell_type": "code",
   "execution_count": 127,
   "metadata": {},
   "outputs": [
    {
     "data": {
      "text/html": [
       "<div>\n",
       "<style scoped>\n",
       "    .dataframe tbody tr th:only-of-type {\n",
       "        vertical-align: middle;\n",
       "    }\n",
       "\n",
       "    .dataframe tbody tr th {\n",
       "        vertical-align: top;\n",
       "    }\n",
       "\n",
       "    .dataframe thead th {\n",
       "        text-align: right;\n",
       "    }\n",
       "</style>\n",
       "<table border=\"1\" class=\"dataframe\">\n",
       "  <thead>\n",
       "    <tr style=\"text-align: right;\">\n",
       "      <th>period_number_month</th>\n",
       "      <th>0.0</th>\n",
       "      <th>1.0</th>\n",
       "      <th>2.0</th>\n",
       "      <th>3.0</th>\n",
       "      <th>4.0</th>\n",
       "      <th>5.0</th>\n",
       "      <th>6.0</th>\n",
       "      <th>7.0</th>\n",
       "      <th>8.0</th>\n",
       "      <th>9.0</th>\n",
       "      <th>...</th>\n",
       "      <th>11.0</th>\n",
       "      <th>12.0</th>\n",
       "      <th>13.0</th>\n",
       "      <th>14.0</th>\n",
       "      <th>15.0</th>\n",
       "      <th>16.0</th>\n",
       "      <th>17.0</th>\n",
       "      <th>19.0</th>\n",
       "      <th>20.0</th>\n",
       "      <th>21.0</th>\n",
       "    </tr>\n",
       "    <tr>\n",
       "      <th>month_cohort</th>\n",
       "      <th></th>\n",
       "      <th></th>\n",
       "      <th></th>\n",
       "      <th></th>\n",
       "      <th></th>\n",
       "      <th></th>\n",
       "      <th></th>\n",
       "      <th></th>\n",
       "      <th></th>\n",
       "      <th></th>\n",
       "      <th></th>\n",
       "      <th></th>\n",
       "      <th></th>\n",
       "      <th></th>\n",
       "      <th></th>\n",
       "      <th></th>\n",
       "      <th></th>\n",
       "      <th></th>\n",
       "      <th></th>\n",
       "      <th></th>\n",
       "      <th></th>\n",
       "    </tr>\n",
       "  </thead>\n",
       "  <tbody>\n",
       "    <tr>\n",
       "      <th>2016-09</th>\n",
       "      <td>1.0</td>\n",
       "      <td>NaN</td>\n",
       "      <td>NaN</td>\n",
       "      <td>NaN</td>\n",
       "      <td>NaN</td>\n",
       "      <td>NaN</td>\n",
       "      <td>NaN</td>\n",
       "      <td>NaN</td>\n",
       "      <td>NaN</td>\n",
       "      <td>NaN</td>\n",
       "      <td>...</td>\n",
       "      <td>NaN</td>\n",
       "      <td>NaN</td>\n",
       "      <td>NaN</td>\n",
       "      <td>NaN</td>\n",
       "      <td>NaN</td>\n",
       "      <td>NaN</td>\n",
       "      <td>NaN</td>\n",
       "      <td>NaN</td>\n",
       "      <td>NaN</td>\n",
       "      <td>NaN</td>\n",
       "    </tr>\n",
       "    <tr>\n",
       "      <th>2016-10</th>\n",
       "      <td>262.0</td>\n",
       "      <td>NaN</td>\n",
       "      <td>NaN</td>\n",
       "      <td>NaN</td>\n",
       "      <td>NaN</td>\n",
       "      <td>NaN</td>\n",
       "      <td>1.0</td>\n",
       "      <td>NaN</td>\n",
       "      <td>NaN</td>\n",
       "      <td>1.0</td>\n",
       "      <td>...</td>\n",
       "      <td>1.0</td>\n",
       "      <td>NaN</td>\n",
       "      <td>1.0</td>\n",
       "      <td>NaN</td>\n",
       "      <td>1.0</td>\n",
       "      <td>NaN</td>\n",
       "      <td>1.0</td>\n",
       "      <td>2.0</td>\n",
       "      <td>1.0</td>\n",
       "      <td>1.0</td>\n",
       "    </tr>\n",
       "    <tr>\n",
       "      <th>2016-12</th>\n",
       "      <td>1.0</td>\n",
       "      <td>NaN</td>\n",
       "      <td>NaN</td>\n",
       "      <td>NaN</td>\n",
       "      <td>NaN</td>\n",
       "      <td>NaN</td>\n",
       "      <td>NaN</td>\n",
       "      <td>NaN</td>\n",
       "      <td>NaN</td>\n",
       "      <td>NaN</td>\n",
       "      <td>...</td>\n",
       "      <td>NaN</td>\n",
       "      <td>NaN</td>\n",
       "      <td>NaN</td>\n",
       "      <td>NaN</td>\n",
       "      <td>NaN</td>\n",
       "      <td>NaN</td>\n",
       "      <td>NaN</td>\n",
       "      <td>NaN</td>\n",
       "      <td>NaN</td>\n",
       "      <td>NaN</td>\n",
       "    </tr>\n",
       "    <tr>\n",
       "      <th>2017-01</th>\n",
       "      <td>683.0</td>\n",
       "      <td>2.0</td>\n",
       "      <td>NaN</td>\n",
       "      <td>4.0</td>\n",
       "      <td>1.0</td>\n",
       "      <td>1.0</td>\n",
       "      <td>2.0</td>\n",
       "      <td>2.0</td>\n",
       "      <td>NaN</td>\n",
       "      <td>NaN</td>\n",
       "      <td>...</td>\n",
       "      <td>4.0</td>\n",
       "      <td>3.0</td>\n",
       "      <td>2.0</td>\n",
       "      <td>NaN</td>\n",
       "      <td>2.0</td>\n",
       "      <td>2.0</td>\n",
       "      <td>2.0</td>\n",
       "      <td>1.0</td>\n",
       "      <td>NaN</td>\n",
       "      <td>NaN</td>\n",
       "    </tr>\n",
       "    <tr>\n",
       "      <th>2017-02</th>\n",
       "      <td>1612.0</td>\n",
       "      <td>2.0</td>\n",
       "      <td>3.0</td>\n",
       "      <td>6.0</td>\n",
       "      <td>4.0</td>\n",
       "      <td>2.0</td>\n",
       "      <td>4.0</td>\n",
       "      <td>1.0</td>\n",
       "      <td>1.0</td>\n",
       "      <td>4.0</td>\n",
       "      <td>...</td>\n",
       "      <td>6.0</td>\n",
       "      <td>1.0</td>\n",
       "      <td>3.0</td>\n",
       "      <td>2.0</td>\n",
       "      <td>1.0</td>\n",
       "      <td>1.0</td>\n",
       "      <td>3.0</td>\n",
       "      <td>NaN</td>\n",
       "      <td>NaN</td>\n",
       "      <td>NaN</td>\n",
       "    </tr>\n",
       "    <tr>\n",
       "      <th>2017-03</th>\n",
       "      <td>2511.0</td>\n",
       "      <td>7.0</td>\n",
       "      <td>12.0</td>\n",
       "      <td>11.0</td>\n",
       "      <td>3.0</td>\n",
       "      <td>2.0</td>\n",
       "      <td>8.0</td>\n",
       "      <td>5.0</td>\n",
       "      <td>6.0</td>\n",
       "      <td>6.0</td>\n",
       "      <td>...</td>\n",
       "      <td>4.0</td>\n",
       "      <td>4.0</td>\n",
       "      <td>3.0</td>\n",
       "      <td>6.0</td>\n",
       "      <td>3.0</td>\n",
       "      <td>3.0</td>\n",
       "      <td>2.0</td>\n",
       "      <td>NaN</td>\n",
       "      <td>NaN</td>\n",
       "      <td>NaN</td>\n",
       "    </tr>\n",
       "    <tr>\n",
       "      <th>2017-04</th>\n",
       "      <td>2232.0</td>\n",
       "      <td>8.0</td>\n",
       "      <td>6.0</td>\n",
       "      <td>NaN</td>\n",
       "      <td>6.0</td>\n",
       "      <td>8.0</td>\n",
       "      <td>6.0</td>\n",
       "      <td>10.0</td>\n",
       "      <td>5.0</td>\n",
       "      <td>5.0</td>\n",
       "      <td>...</td>\n",
       "      <td>3.0</td>\n",
       "      <td>NaN</td>\n",
       "      <td>2.0</td>\n",
       "      <td>2.0</td>\n",
       "      <td>2.0</td>\n",
       "      <td>2.0</td>\n",
       "      <td>NaN</td>\n",
       "      <td>NaN</td>\n",
       "      <td>NaN</td>\n",
       "      <td>NaN</td>\n",
       "    </tr>\n",
       "    <tr>\n",
       "      <th>2017-05</th>\n",
       "      <td>3452.0</td>\n",
       "      <td>14.0</td>\n",
       "      <td>14.0</td>\n",
       "      <td>9.0</td>\n",
       "      <td>13.0</td>\n",
       "      <td>11.0</td>\n",
       "      <td>11.0</td>\n",
       "      <td>5.0</td>\n",
       "      <td>11.0</td>\n",
       "      <td>9.0</td>\n",
       "      <td>...</td>\n",
       "      <td>10.0</td>\n",
       "      <td>6.0</td>\n",
       "      <td>3.0</td>\n",
       "      <td>7.0</td>\n",
       "      <td>4.0</td>\n",
       "      <td>NaN</td>\n",
       "      <td>NaN</td>\n",
       "      <td>NaN</td>\n",
       "      <td>NaN</td>\n",
       "      <td>NaN</td>\n",
       "    </tr>\n",
       "    <tr>\n",
       "      <th>2017-06</th>\n",
       "      <td>3044.0</td>\n",
       "      <td>13.0</td>\n",
       "      <td>15.0</td>\n",
       "      <td>11.0</td>\n",
       "      <td>5.0</td>\n",
       "      <td>16.0</td>\n",
       "      <td>8.0</td>\n",
       "      <td>6.0</td>\n",
       "      <td>4.0</td>\n",
       "      <td>9.0</td>\n",
       "      <td>...</td>\n",
       "      <td>10.0</td>\n",
       "      <td>3.0</td>\n",
       "      <td>9.0</td>\n",
       "      <td>4.0</td>\n",
       "      <td>NaN</td>\n",
       "      <td>NaN</td>\n",
       "      <td>NaN</td>\n",
       "      <td>NaN</td>\n",
       "      <td>NaN</td>\n",
       "      <td>NaN</td>\n",
       "    </tr>\n",
       "    <tr>\n",
       "      <th>2017-07</th>\n",
       "      <td>3709.0</td>\n",
       "      <td>13.0</td>\n",
       "      <td>8.0</td>\n",
       "      <td>10.0</td>\n",
       "      <td>12.0</td>\n",
       "      <td>7.0</td>\n",
       "      <td>10.0</td>\n",
       "      <td>7.0</td>\n",
       "      <td>4.0</td>\n",
       "      <td>10.0</td>\n",
       "      <td>...</td>\n",
       "      <td>9.0</td>\n",
       "      <td>6.0</td>\n",
       "      <td>7.0</td>\n",
       "      <td>NaN</td>\n",
       "      <td>NaN</td>\n",
       "      <td>NaN</td>\n",
       "      <td>NaN</td>\n",
       "      <td>NaN</td>\n",
       "      <td>NaN</td>\n",
       "      <td>NaN</td>\n",
       "    </tr>\n",
       "    <tr>\n",
       "      <th>2017-08</th>\n",
       "      <td>4081.0</td>\n",
       "      <td>27.0</td>\n",
       "      <td>11.0</td>\n",
       "      <td>14.0</td>\n",
       "      <td>16.0</td>\n",
       "      <td>18.0</td>\n",
       "      <td>10.0</td>\n",
       "      <td>10.0</td>\n",
       "      <td>6.0</td>\n",
       "      <td>7.0</td>\n",
       "      <td>...</td>\n",
       "      <td>7.0</td>\n",
       "      <td>3.0</td>\n",
       "      <td>NaN</td>\n",
       "      <td>NaN</td>\n",
       "      <td>NaN</td>\n",
       "      <td>NaN</td>\n",
       "      <td>NaN</td>\n",
       "      <td>NaN</td>\n",
       "      <td>NaN</td>\n",
       "      <td>NaN</td>\n",
       "    </tr>\n",
       "    <tr>\n",
       "      <th>2017-09</th>\n",
       "      <td>4024.0</td>\n",
       "      <td>21.0</td>\n",
       "      <td>19.0</td>\n",
       "      <td>13.0</td>\n",
       "      <td>14.0</td>\n",
       "      <td>10.0</td>\n",
       "      <td>10.0</td>\n",
       "      <td>6.0</td>\n",
       "      <td>14.0</td>\n",
       "      <td>7.0</td>\n",
       "      <td>...</td>\n",
       "      <td>1.0</td>\n",
       "      <td>NaN</td>\n",
       "      <td>NaN</td>\n",
       "      <td>NaN</td>\n",
       "      <td>NaN</td>\n",
       "      <td>NaN</td>\n",
       "      <td>NaN</td>\n",
       "      <td>NaN</td>\n",
       "      <td>NaN</td>\n",
       "      <td>NaN</td>\n",
       "    </tr>\n",
       "    <tr>\n",
       "      <th>2017-10</th>\n",
       "      <td>4294.0</td>\n",
       "      <td>27.0</td>\n",
       "      <td>4.0</td>\n",
       "      <td>5.0</td>\n",
       "      <td>13.0</td>\n",
       "      <td>7.0</td>\n",
       "      <td>12.0</td>\n",
       "      <td>17.0</td>\n",
       "      <td>11.0</td>\n",
       "      <td>9.0</td>\n",
       "      <td>...</td>\n",
       "      <td>NaN</td>\n",
       "      <td>NaN</td>\n",
       "      <td>NaN</td>\n",
       "      <td>NaN</td>\n",
       "      <td>NaN</td>\n",
       "      <td>NaN</td>\n",
       "      <td>NaN</td>\n",
       "      <td>NaN</td>\n",
       "      <td>NaN</td>\n",
       "      <td>NaN</td>\n",
       "    </tr>\n",
       "    <tr>\n",
       "      <th>2017-11</th>\n",
       "      <td>6926.0</td>\n",
       "      <td>23.0</td>\n",
       "      <td>19.0</td>\n",
       "      <td>12.0</td>\n",
       "      <td>10.0</td>\n",
       "      <td>13.0</td>\n",
       "      <td>8.0</td>\n",
       "      <td>13.0</td>\n",
       "      <td>5.0</td>\n",
       "      <td>2.0</td>\n",
       "      <td>...</td>\n",
       "      <td>NaN</td>\n",
       "      <td>NaN</td>\n",
       "      <td>NaN</td>\n",
       "      <td>NaN</td>\n",
       "      <td>NaN</td>\n",
       "      <td>NaN</td>\n",
       "      <td>NaN</td>\n",
       "      <td>NaN</td>\n",
       "      <td>NaN</td>\n",
       "      <td>NaN</td>\n",
       "    </tr>\n",
       "    <tr>\n",
       "      <th>2017-12</th>\n",
       "      <td>5490.0</td>\n",
       "      <td>15.0</td>\n",
       "      <td>19.0</td>\n",
       "      <td>9.0</td>\n",
       "      <td>16.0</td>\n",
       "      <td>9.0</td>\n",
       "      <td>5.0</td>\n",
       "      <td>6.0</td>\n",
       "      <td>5.0</td>\n",
       "      <td>NaN</td>\n",
       "      <td>...</td>\n",
       "      <td>NaN</td>\n",
       "      <td>NaN</td>\n",
       "      <td>NaN</td>\n",
       "      <td>NaN</td>\n",
       "      <td>NaN</td>\n",
       "      <td>NaN</td>\n",
       "      <td>NaN</td>\n",
       "      <td>NaN</td>\n",
       "      <td>NaN</td>\n",
       "      <td>NaN</td>\n",
       "    </tr>\n",
       "    <tr>\n",
       "      <th>2018-01</th>\n",
       "      <td>6770.0</td>\n",
       "      <td>24.0</td>\n",
       "      <td>22.0</td>\n",
       "      <td>26.0</td>\n",
       "      <td>10.0</td>\n",
       "      <td>13.0</td>\n",
       "      <td>16.0</td>\n",
       "      <td>6.0</td>\n",
       "      <td>NaN</td>\n",
       "      <td>NaN</td>\n",
       "      <td>...</td>\n",
       "      <td>NaN</td>\n",
       "      <td>NaN</td>\n",
       "      <td>NaN</td>\n",
       "      <td>NaN</td>\n",
       "      <td>NaN</td>\n",
       "      <td>NaN</td>\n",
       "      <td>NaN</td>\n",
       "      <td>NaN</td>\n",
       "      <td>NaN</td>\n",
       "      <td>NaN</td>\n",
       "    </tr>\n",
       "    <tr>\n",
       "      <th>2018-02</th>\n",
       "      <td>6268.0</td>\n",
       "      <td>20.0</td>\n",
       "      <td>22.0</td>\n",
       "      <td>17.0</td>\n",
       "      <td>12.0</td>\n",
       "      <td>12.0</td>\n",
       "      <td>7.0</td>\n",
       "      <td>NaN</td>\n",
       "      <td>NaN</td>\n",
       "      <td>NaN</td>\n",
       "      <td>...</td>\n",
       "      <td>NaN</td>\n",
       "      <td>NaN</td>\n",
       "      <td>NaN</td>\n",
       "      <td>NaN</td>\n",
       "      <td>NaN</td>\n",
       "      <td>NaN</td>\n",
       "      <td>NaN</td>\n",
       "      <td>NaN</td>\n",
       "      <td>NaN</td>\n",
       "      <td>NaN</td>\n",
       "    </tr>\n",
       "    <tr>\n",
       "      <th>2018-03</th>\n",
       "      <td>6851.0</td>\n",
       "      <td>27.0</td>\n",
       "      <td>11.0</td>\n",
       "      <td>16.0</td>\n",
       "      <td>12.0</td>\n",
       "      <td>4.0</td>\n",
       "      <td>NaN</td>\n",
       "      <td>NaN</td>\n",
       "      <td>NaN</td>\n",
       "      <td>NaN</td>\n",
       "      <td>...</td>\n",
       "      <td>NaN</td>\n",
       "      <td>NaN</td>\n",
       "      <td>NaN</td>\n",
       "      <td>NaN</td>\n",
       "      <td>NaN</td>\n",
       "      <td>NaN</td>\n",
       "      <td>NaN</td>\n",
       "      <td>NaN</td>\n",
       "      <td>NaN</td>\n",
       "      <td>NaN</td>\n",
       "    </tr>\n",
       "    <tr>\n",
       "      <th>2018-04</th>\n",
       "      <td>6428.0</td>\n",
       "      <td>30.0</td>\n",
       "      <td>9.0</td>\n",
       "      <td>15.0</td>\n",
       "      <td>7.0</td>\n",
       "      <td>NaN</td>\n",
       "      <td>NaN</td>\n",
       "      <td>NaN</td>\n",
       "      <td>NaN</td>\n",
       "      <td>NaN</td>\n",
       "      <td>...</td>\n",
       "      <td>NaN</td>\n",
       "      <td>NaN</td>\n",
       "      <td>NaN</td>\n",
       "      <td>NaN</td>\n",
       "      <td>NaN</td>\n",
       "      <td>NaN</td>\n",
       "      <td>NaN</td>\n",
       "      <td>NaN</td>\n",
       "      <td>NaN</td>\n",
       "      <td>NaN</td>\n",
       "    </tr>\n",
       "    <tr>\n",
       "      <th>2018-05</th>\n",
       "      <td>6692.0</td>\n",
       "      <td>21.0</td>\n",
       "      <td>21.0</td>\n",
       "      <td>5.0</td>\n",
       "      <td>NaN</td>\n",
       "      <td>NaN</td>\n",
       "      <td>NaN</td>\n",
       "      <td>NaN</td>\n",
       "      <td>NaN</td>\n",
       "      <td>NaN</td>\n",
       "      <td>...</td>\n",
       "      <td>NaN</td>\n",
       "      <td>NaN</td>\n",
       "      <td>NaN</td>\n",
       "      <td>NaN</td>\n",
       "      <td>NaN</td>\n",
       "      <td>NaN</td>\n",
       "      <td>NaN</td>\n",
       "      <td>NaN</td>\n",
       "      <td>NaN</td>\n",
       "      <td>NaN</td>\n",
       "    </tr>\n",
       "    <tr>\n",
       "      <th>2018-06</th>\n",
       "      <td>5872.0</td>\n",
       "      <td>20.0</td>\n",
       "      <td>6.0</td>\n",
       "      <td>NaN</td>\n",
       "      <td>NaN</td>\n",
       "      <td>NaN</td>\n",
       "      <td>NaN</td>\n",
       "      <td>NaN</td>\n",
       "      <td>NaN</td>\n",
       "      <td>NaN</td>\n",
       "      <td>...</td>\n",
       "      <td>NaN</td>\n",
       "      <td>NaN</td>\n",
       "      <td>NaN</td>\n",
       "      <td>NaN</td>\n",
       "      <td>NaN</td>\n",
       "      <td>NaN</td>\n",
       "      <td>NaN</td>\n",
       "      <td>NaN</td>\n",
       "      <td>NaN</td>\n",
       "      <td>NaN</td>\n",
       "    </tr>\n",
       "    <tr>\n",
       "      <th>2018-07</th>\n",
       "      <td>5843.0</td>\n",
       "      <td>7.0</td>\n",
       "      <td>NaN</td>\n",
       "      <td>NaN</td>\n",
       "      <td>NaN</td>\n",
       "      <td>NaN</td>\n",
       "      <td>NaN</td>\n",
       "      <td>NaN</td>\n",
       "      <td>NaN</td>\n",
       "      <td>NaN</td>\n",
       "      <td>...</td>\n",
       "      <td>NaN</td>\n",
       "      <td>NaN</td>\n",
       "      <td>NaN</td>\n",
       "      <td>NaN</td>\n",
       "      <td>NaN</td>\n",
       "      <td>NaN</td>\n",
       "      <td>NaN</td>\n",
       "      <td>NaN</td>\n",
       "      <td>NaN</td>\n",
       "      <td>NaN</td>\n",
       "    </tr>\n",
       "    <tr>\n",
       "      <th>2018-08</th>\n",
       "      <td>6290.0</td>\n",
       "      <td>NaN</td>\n",
       "      <td>NaN</td>\n",
       "      <td>NaN</td>\n",
       "      <td>NaN</td>\n",
       "      <td>NaN</td>\n",
       "      <td>NaN</td>\n",
       "      <td>NaN</td>\n",
       "      <td>NaN</td>\n",
       "      <td>NaN</td>\n",
       "      <td>...</td>\n",
       "      <td>NaN</td>\n",
       "      <td>NaN</td>\n",
       "      <td>NaN</td>\n",
       "      <td>NaN</td>\n",
       "      <td>NaN</td>\n",
       "      <td>NaN</td>\n",
       "      <td>NaN</td>\n",
       "      <td>NaN</td>\n",
       "      <td>NaN</td>\n",
       "      <td>NaN</td>\n",
       "    </tr>\n",
       "  </tbody>\n",
       "</table>\n",
       "<p>23 rows × 21 columns</p>\n",
       "</div>"
      ],
      "text/plain": [
       "period_number_month    0.0   1.0   2.0   3.0   4.0   5.0   6.0   7.0   8.0   \\\n",
       "month_cohort                                                                  \n",
       "2016-09                 1.0   NaN   NaN   NaN   NaN   NaN   NaN   NaN   NaN   \n",
       "2016-10               262.0   NaN   NaN   NaN   NaN   NaN   1.0   NaN   NaN   \n",
       "2016-12                 1.0   NaN   NaN   NaN   NaN   NaN   NaN   NaN   NaN   \n",
       "2017-01               683.0   2.0   NaN   4.0   1.0   1.0   2.0   2.0   NaN   \n",
       "2017-02              1612.0   2.0   3.0   6.0   4.0   2.0   4.0   1.0   1.0   \n",
       "2017-03              2511.0   7.0  12.0  11.0   3.0   2.0   8.0   5.0   6.0   \n",
       "2017-04              2232.0   8.0   6.0   NaN   6.0   8.0   6.0  10.0   5.0   \n",
       "2017-05              3452.0  14.0  14.0   9.0  13.0  11.0  11.0   5.0  11.0   \n",
       "2017-06              3044.0  13.0  15.0  11.0   5.0  16.0   8.0   6.0   4.0   \n",
       "2017-07              3709.0  13.0   8.0  10.0  12.0   7.0  10.0   7.0   4.0   \n",
       "2017-08              4081.0  27.0  11.0  14.0  16.0  18.0  10.0  10.0   6.0   \n",
       "2017-09              4024.0  21.0  19.0  13.0  14.0  10.0  10.0   6.0  14.0   \n",
       "2017-10              4294.0  27.0   4.0   5.0  13.0   7.0  12.0  17.0  11.0   \n",
       "2017-11              6926.0  23.0  19.0  12.0  10.0  13.0   8.0  13.0   5.0   \n",
       "2017-12              5490.0  15.0  19.0   9.0  16.0   9.0   5.0   6.0   5.0   \n",
       "2018-01              6770.0  24.0  22.0  26.0  10.0  13.0  16.0   6.0   NaN   \n",
       "2018-02              6268.0  20.0  22.0  17.0  12.0  12.0   7.0   NaN   NaN   \n",
       "2018-03              6851.0  27.0  11.0  16.0  12.0   4.0   NaN   NaN   NaN   \n",
       "2018-04              6428.0  30.0   9.0  15.0   7.0   NaN   NaN   NaN   NaN   \n",
       "2018-05              6692.0  21.0  21.0   5.0   NaN   NaN   NaN   NaN   NaN   \n",
       "2018-06              5872.0  20.0   6.0   NaN   NaN   NaN   NaN   NaN   NaN   \n",
       "2018-07              5843.0   7.0   NaN   NaN   NaN   NaN   NaN   NaN   NaN   \n",
       "2018-08              6290.0   NaN   NaN   NaN   NaN   NaN   NaN   NaN   NaN   \n",
       "\n",
       "period_number_month  9.0   ...  11.0  12.0  13.0  14.0  15.0  16.0  17.0  \\\n",
       "month_cohort               ...                                             \n",
       "2016-09               NaN  ...   NaN   NaN   NaN   NaN   NaN   NaN   NaN   \n",
       "2016-10               1.0  ...   1.0   NaN   1.0   NaN   1.0   NaN   1.0   \n",
       "2016-12               NaN  ...   NaN   NaN   NaN   NaN   NaN   NaN   NaN   \n",
       "2017-01               NaN  ...   4.0   3.0   2.0   NaN   2.0   2.0   2.0   \n",
       "2017-02               4.0  ...   6.0   1.0   3.0   2.0   1.0   1.0   3.0   \n",
       "2017-03               6.0  ...   4.0   4.0   3.0   6.0   3.0   3.0   2.0   \n",
       "2017-04               5.0  ...   3.0   NaN   2.0   2.0   2.0   2.0   NaN   \n",
       "2017-05               9.0  ...  10.0   6.0   3.0   7.0   4.0   NaN   NaN   \n",
       "2017-06               9.0  ...  10.0   3.0   9.0   4.0   NaN   NaN   NaN   \n",
       "2017-07              10.0  ...   9.0   6.0   7.0   NaN   NaN   NaN   NaN   \n",
       "2017-08               7.0  ...   7.0   3.0   NaN   NaN   NaN   NaN   NaN   \n",
       "2017-09               7.0  ...   1.0   NaN   NaN   NaN   NaN   NaN   NaN   \n",
       "2017-10               9.0  ...   NaN   NaN   NaN   NaN   NaN   NaN   NaN   \n",
       "2017-11               2.0  ...   NaN   NaN   NaN   NaN   NaN   NaN   NaN   \n",
       "2017-12               NaN  ...   NaN   NaN   NaN   NaN   NaN   NaN   NaN   \n",
       "2018-01               NaN  ...   NaN   NaN   NaN   NaN   NaN   NaN   NaN   \n",
       "2018-02               NaN  ...   NaN   NaN   NaN   NaN   NaN   NaN   NaN   \n",
       "2018-03               NaN  ...   NaN   NaN   NaN   NaN   NaN   NaN   NaN   \n",
       "2018-04               NaN  ...   NaN   NaN   NaN   NaN   NaN   NaN   NaN   \n",
       "2018-05               NaN  ...   NaN   NaN   NaN   NaN   NaN   NaN   NaN   \n",
       "2018-06               NaN  ...   NaN   NaN   NaN   NaN   NaN   NaN   NaN   \n",
       "2018-07               NaN  ...   NaN   NaN   NaN   NaN   NaN   NaN   NaN   \n",
       "2018-08               NaN  ...   NaN   NaN   NaN   NaN   NaN   NaN   NaN   \n",
       "\n",
       "period_number_month  19.0  20.0  21.0  \n",
       "month_cohort                           \n",
       "2016-09               NaN   NaN   NaN  \n",
       "2016-10               2.0   1.0   1.0  \n",
       "2016-12               NaN   NaN   NaN  \n",
       "2017-01               1.0   NaN   NaN  \n",
       "2017-02               NaN   NaN   NaN  \n",
       "2017-03               NaN   NaN   NaN  \n",
       "2017-04               NaN   NaN   NaN  \n",
       "2017-05               NaN   NaN   NaN  \n",
       "2017-06               NaN   NaN   NaN  \n",
       "2017-07               NaN   NaN   NaN  \n",
       "2017-08               NaN   NaN   NaN  \n",
       "2017-09               NaN   NaN   NaN  \n",
       "2017-10               NaN   NaN   NaN  \n",
       "2017-11               NaN   NaN   NaN  \n",
       "2017-12               NaN   NaN   NaN  \n",
       "2018-01               NaN   NaN   NaN  \n",
       "2018-02               NaN   NaN   NaN  \n",
       "2018-03               NaN   NaN   NaN  \n",
       "2018-04               NaN   NaN   NaN  \n",
       "2018-05               NaN   NaN   NaN  \n",
       "2018-06               NaN   NaN   NaN  \n",
       "2018-07               NaN   NaN   NaN  \n",
       "2018-08               NaN   NaN   NaN  \n",
       "\n",
       "[23 rows x 21 columns]"
      ]
     },
     "execution_count": 127,
     "metadata": {},
     "output_type": "execute_result"
    }
   ],
   "source": [
    "# Создадим сводную таблицу для когортного анализа\n",
    "cohort_pivot = df_cohort.pivot_table(index='month_cohort', columns='period_number_month', values='n_customers')\n",
    "cohort_pivot"
   ]
  },
  {
   "cell_type": "code",
   "execution_count": 128,
   "metadata": {},
   "outputs": [],
   "source": [
    "# Рассчиттаем размеры когорт (первый столбец сводной таблицы)\n",
    "cohort_size = cohort_pivot.iloc[:, 0]"
   ]
  },
  {
   "cell_type": "code",
   "execution_count": 129,
   "metadata": {},
   "outputs": [
    {
     "data": {
      "text/html": [
       "<div>\n",
       "<style scoped>\n",
       "    .dataframe tbody tr th:only-of-type {\n",
       "        vertical-align: middle;\n",
       "    }\n",
       "\n",
       "    .dataframe tbody tr th {\n",
       "        vertical-align: top;\n",
       "    }\n",
       "\n",
       "    .dataframe thead th {\n",
       "        text-align: right;\n",
       "    }\n",
       "</style>\n",
       "<table border=\"1\" class=\"dataframe\">\n",
       "  <thead>\n",
       "    <tr style=\"text-align: right;\">\n",
       "      <th>period_number_month</th>\n",
       "      <th>0.0</th>\n",
       "      <th>1.0</th>\n",
       "      <th>2.0</th>\n",
       "      <th>3.0</th>\n",
       "      <th>4.0</th>\n",
       "      <th>5.0</th>\n",
       "      <th>6.0</th>\n",
       "      <th>7.0</th>\n",
       "      <th>8.0</th>\n",
       "      <th>9.0</th>\n",
       "      <th>...</th>\n",
       "      <th>11.0</th>\n",
       "      <th>12.0</th>\n",
       "      <th>13.0</th>\n",
       "      <th>14.0</th>\n",
       "      <th>15.0</th>\n",
       "      <th>16.0</th>\n",
       "      <th>17.0</th>\n",
       "      <th>19.0</th>\n",
       "      <th>20.0</th>\n",
       "      <th>21.0</th>\n",
       "    </tr>\n",
       "    <tr>\n",
       "      <th>month_cohort</th>\n",
       "      <th></th>\n",
       "      <th></th>\n",
       "      <th></th>\n",
       "      <th></th>\n",
       "      <th></th>\n",
       "      <th></th>\n",
       "      <th></th>\n",
       "      <th></th>\n",
       "      <th></th>\n",
       "      <th></th>\n",
       "      <th></th>\n",
       "      <th></th>\n",
       "      <th></th>\n",
       "      <th></th>\n",
       "      <th></th>\n",
       "      <th></th>\n",
       "      <th></th>\n",
       "      <th></th>\n",
       "      <th></th>\n",
       "      <th></th>\n",
       "      <th></th>\n",
       "    </tr>\n",
       "  </thead>\n",
       "  <tbody>\n",
       "    <tr>\n",
       "      <th>2016-09</th>\n",
       "      <td>1.0</td>\n",
       "      <td>NaN</td>\n",
       "      <td>NaN</td>\n",
       "      <td>NaN</td>\n",
       "      <td>NaN</td>\n",
       "      <td>NaN</td>\n",
       "      <td>NaN</td>\n",
       "      <td>NaN</td>\n",
       "      <td>NaN</td>\n",
       "      <td>NaN</td>\n",
       "      <td>...</td>\n",
       "      <td>NaN</td>\n",
       "      <td>NaN</td>\n",
       "      <td>NaN</td>\n",
       "      <td>NaN</td>\n",
       "      <td>NaN</td>\n",
       "      <td>NaN</td>\n",
       "      <td>NaN</td>\n",
       "      <td>NaN</td>\n",
       "      <td>NaN</td>\n",
       "      <td>NaN</td>\n",
       "    </tr>\n",
       "    <tr>\n",
       "      <th>2016-10</th>\n",
       "      <td>1.0</td>\n",
       "      <td>NaN</td>\n",
       "      <td>NaN</td>\n",
       "      <td>NaN</td>\n",
       "      <td>NaN</td>\n",
       "      <td>NaN</td>\n",
       "      <td>0.003817</td>\n",
       "      <td>NaN</td>\n",
       "      <td>NaN</td>\n",
       "      <td>0.003817</td>\n",
       "      <td>...</td>\n",
       "      <td>0.003817</td>\n",
       "      <td>NaN</td>\n",
       "      <td>0.003817</td>\n",
       "      <td>NaN</td>\n",
       "      <td>0.003817</td>\n",
       "      <td>NaN</td>\n",
       "      <td>0.003817</td>\n",
       "      <td>0.007634</td>\n",
       "      <td>0.003817</td>\n",
       "      <td>0.003817</td>\n",
       "    </tr>\n",
       "    <tr>\n",
       "      <th>2016-12</th>\n",
       "      <td>1.0</td>\n",
       "      <td>NaN</td>\n",
       "      <td>NaN</td>\n",
       "      <td>NaN</td>\n",
       "      <td>NaN</td>\n",
       "      <td>NaN</td>\n",
       "      <td>NaN</td>\n",
       "      <td>NaN</td>\n",
       "      <td>NaN</td>\n",
       "      <td>NaN</td>\n",
       "      <td>...</td>\n",
       "      <td>NaN</td>\n",
       "      <td>NaN</td>\n",
       "      <td>NaN</td>\n",
       "      <td>NaN</td>\n",
       "      <td>NaN</td>\n",
       "      <td>NaN</td>\n",
       "      <td>NaN</td>\n",
       "      <td>NaN</td>\n",
       "      <td>NaN</td>\n",
       "      <td>NaN</td>\n",
       "    </tr>\n",
       "    <tr>\n",
       "      <th>2017-01</th>\n",
       "      <td>1.0</td>\n",
       "      <td>0.002928</td>\n",
       "      <td>NaN</td>\n",
       "      <td>0.005857</td>\n",
       "      <td>0.001464</td>\n",
       "      <td>0.001464</td>\n",
       "      <td>0.002928</td>\n",
       "      <td>0.002928</td>\n",
       "      <td>NaN</td>\n",
       "      <td>NaN</td>\n",
       "      <td>...</td>\n",
       "      <td>0.005857</td>\n",
       "      <td>0.004392</td>\n",
       "      <td>0.002928</td>\n",
       "      <td>NaN</td>\n",
       "      <td>0.002928</td>\n",
       "      <td>0.002928</td>\n",
       "      <td>0.002928</td>\n",
       "      <td>0.001464</td>\n",
       "      <td>NaN</td>\n",
       "      <td>NaN</td>\n",
       "    </tr>\n",
       "    <tr>\n",
       "      <th>2017-02</th>\n",
       "      <td>1.0</td>\n",
       "      <td>0.001241</td>\n",
       "      <td>0.001861</td>\n",
       "      <td>0.003722</td>\n",
       "      <td>0.002481</td>\n",
       "      <td>0.001241</td>\n",
       "      <td>0.002481</td>\n",
       "      <td>0.000620</td>\n",
       "      <td>0.000620</td>\n",
       "      <td>0.002481</td>\n",
       "      <td>...</td>\n",
       "      <td>0.003722</td>\n",
       "      <td>0.000620</td>\n",
       "      <td>0.001861</td>\n",
       "      <td>0.001241</td>\n",
       "      <td>0.000620</td>\n",
       "      <td>0.000620</td>\n",
       "      <td>0.001861</td>\n",
       "      <td>NaN</td>\n",
       "      <td>NaN</td>\n",
       "      <td>NaN</td>\n",
       "    </tr>\n",
       "    <tr>\n",
       "      <th>2017-03</th>\n",
       "      <td>1.0</td>\n",
       "      <td>0.002788</td>\n",
       "      <td>0.004779</td>\n",
       "      <td>0.004381</td>\n",
       "      <td>0.001195</td>\n",
       "      <td>0.000796</td>\n",
       "      <td>0.003186</td>\n",
       "      <td>0.001991</td>\n",
       "      <td>0.002389</td>\n",
       "      <td>0.002389</td>\n",
       "      <td>...</td>\n",
       "      <td>0.001593</td>\n",
       "      <td>0.001593</td>\n",
       "      <td>0.001195</td>\n",
       "      <td>0.002389</td>\n",
       "      <td>0.001195</td>\n",
       "      <td>0.001195</td>\n",
       "      <td>0.000796</td>\n",
       "      <td>NaN</td>\n",
       "      <td>NaN</td>\n",
       "      <td>NaN</td>\n",
       "    </tr>\n",
       "    <tr>\n",
       "      <th>2017-04</th>\n",
       "      <td>1.0</td>\n",
       "      <td>0.003584</td>\n",
       "      <td>0.002688</td>\n",
       "      <td>NaN</td>\n",
       "      <td>0.002688</td>\n",
       "      <td>0.003584</td>\n",
       "      <td>0.002688</td>\n",
       "      <td>0.004480</td>\n",
       "      <td>0.002240</td>\n",
       "      <td>0.002240</td>\n",
       "      <td>...</td>\n",
       "      <td>0.001344</td>\n",
       "      <td>NaN</td>\n",
       "      <td>0.000896</td>\n",
       "      <td>0.000896</td>\n",
       "      <td>0.000896</td>\n",
       "      <td>0.000896</td>\n",
       "      <td>NaN</td>\n",
       "      <td>NaN</td>\n",
       "      <td>NaN</td>\n",
       "      <td>NaN</td>\n",
       "    </tr>\n",
       "    <tr>\n",
       "      <th>2017-05</th>\n",
       "      <td>1.0</td>\n",
       "      <td>0.004056</td>\n",
       "      <td>0.004056</td>\n",
       "      <td>0.002607</td>\n",
       "      <td>0.003766</td>\n",
       "      <td>0.003187</td>\n",
       "      <td>0.003187</td>\n",
       "      <td>0.001448</td>\n",
       "      <td>0.003187</td>\n",
       "      <td>0.002607</td>\n",
       "      <td>...</td>\n",
       "      <td>0.002897</td>\n",
       "      <td>0.001738</td>\n",
       "      <td>0.000869</td>\n",
       "      <td>0.002028</td>\n",
       "      <td>0.001159</td>\n",
       "      <td>NaN</td>\n",
       "      <td>NaN</td>\n",
       "      <td>NaN</td>\n",
       "      <td>NaN</td>\n",
       "      <td>NaN</td>\n",
       "    </tr>\n",
       "    <tr>\n",
       "      <th>2017-06</th>\n",
       "      <td>1.0</td>\n",
       "      <td>0.004271</td>\n",
       "      <td>0.004928</td>\n",
       "      <td>0.003614</td>\n",
       "      <td>0.001643</td>\n",
       "      <td>0.005256</td>\n",
       "      <td>0.002628</td>\n",
       "      <td>0.001971</td>\n",
       "      <td>0.001314</td>\n",
       "      <td>0.002957</td>\n",
       "      <td>...</td>\n",
       "      <td>0.003285</td>\n",
       "      <td>0.000986</td>\n",
       "      <td>0.002957</td>\n",
       "      <td>0.001314</td>\n",
       "      <td>NaN</td>\n",
       "      <td>NaN</td>\n",
       "      <td>NaN</td>\n",
       "      <td>NaN</td>\n",
       "      <td>NaN</td>\n",
       "      <td>NaN</td>\n",
       "    </tr>\n",
       "    <tr>\n",
       "      <th>2017-07</th>\n",
       "      <td>1.0</td>\n",
       "      <td>0.003505</td>\n",
       "      <td>0.002157</td>\n",
       "      <td>0.002696</td>\n",
       "      <td>0.003235</td>\n",
       "      <td>0.001887</td>\n",
       "      <td>0.002696</td>\n",
       "      <td>0.001887</td>\n",
       "      <td>0.001078</td>\n",
       "      <td>0.002696</td>\n",
       "      <td>...</td>\n",
       "      <td>0.002427</td>\n",
       "      <td>0.001618</td>\n",
       "      <td>0.001887</td>\n",
       "      <td>NaN</td>\n",
       "      <td>NaN</td>\n",
       "      <td>NaN</td>\n",
       "      <td>NaN</td>\n",
       "      <td>NaN</td>\n",
       "      <td>NaN</td>\n",
       "      <td>NaN</td>\n",
       "    </tr>\n",
       "    <tr>\n",
       "      <th>2017-08</th>\n",
       "      <td>1.0</td>\n",
       "      <td>0.006616</td>\n",
       "      <td>0.002695</td>\n",
       "      <td>0.003431</td>\n",
       "      <td>0.003921</td>\n",
       "      <td>0.004411</td>\n",
       "      <td>0.002450</td>\n",
       "      <td>0.002450</td>\n",
       "      <td>0.001470</td>\n",
       "      <td>0.001715</td>\n",
       "      <td>...</td>\n",
       "      <td>0.001715</td>\n",
       "      <td>0.000735</td>\n",
       "      <td>NaN</td>\n",
       "      <td>NaN</td>\n",
       "      <td>NaN</td>\n",
       "      <td>NaN</td>\n",
       "      <td>NaN</td>\n",
       "      <td>NaN</td>\n",
       "      <td>NaN</td>\n",
       "      <td>NaN</td>\n",
       "    </tr>\n",
       "    <tr>\n",
       "      <th>2017-09</th>\n",
       "      <td>1.0</td>\n",
       "      <td>0.005219</td>\n",
       "      <td>0.004722</td>\n",
       "      <td>0.003231</td>\n",
       "      <td>0.003479</td>\n",
       "      <td>0.002485</td>\n",
       "      <td>0.002485</td>\n",
       "      <td>0.001491</td>\n",
       "      <td>0.003479</td>\n",
       "      <td>0.001740</td>\n",
       "      <td>...</td>\n",
       "      <td>0.000249</td>\n",
       "      <td>NaN</td>\n",
       "      <td>NaN</td>\n",
       "      <td>NaN</td>\n",
       "      <td>NaN</td>\n",
       "      <td>NaN</td>\n",
       "      <td>NaN</td>\n",
       "      <td>NaN</td>\n",
       "      <td>NaN</td>\n",
       "      <td>NaN</td>\n",
       "    </tr>\n",
       "    <tr>\n",
       "      <th>2017-10</th>\n",
       "      <td>1.0</td>\n",
       "      <td>0.006288</td>\n",
       "      <td>0.000932</td>\n",
       "      <td>0.001164</td>\n",
       "      <td>0.003027</td>\n",
       "      <td>0.001630</td>\n",
       "      <td>0.002795</td>\n",
       "      <td>0.003959</td>\n",
       "      <td>0.002562</td>\n",
       "      <td>0.002096</td>\n",
       "      <td>...</td>\n",
       "      <td>NaN</td>\n",
       "      <td>NaN</td>\n",
       "      <td>NaN</td>\n",
       "      <td>NaN</td>\n",
       "      <td>NaN</td>\n",
       "      <td>NaN</td>\n",
       "      <td>NaN</td>\n",
       "      <td>NaN</td>\n",
       "      <td>NaN</td>\n",
       "      <td>NaN</td>\n",
       "    </tr>\n",
       "    <tr>\n",
       "      <th>2017-11</th>\n",
       "      <td>1.0</td>\n",
       "      <td>0.003321</td>\n",
       "      <td>0.002743</td>\n",
       "      <td>0.001733</td>\n",
       "      <td>0.001444</td>\n",
       "      <td>0.001877</td>\n",
       "      <td>0.001155</td>\n",
       "      <td>0.001877</td>\n",
       "      <td>0.000722</td>\n",
       "      <td>0.000289</td>\n",
       "      <td>...</td>\n",
       "      <td>NaN</td>\n",
       "      <td>NaN</td>\n",
       "      <td>NaN</td>\n",
       "      <td>NaN</td>\n",
       "      <td>NaN</td>\n",
       "      <td>NaN</td>\n",
       "      <td>NaN</td>\n",
       "      <td>NaN</td>\n",
       "      <td>NaN</td>\n",
       "      <td>NaN</td>\n",
       "    </tr>\n",
       "    <tr>\n",
       "      <th>2017-12</th>\n",
       "      <td>1.0</td>\n",
       "      <td>0.002732</td>\n",
       "      <td>0.003461</td>\n",
       "      <td>0.001639</td>\n",
       "      <td>0.002914</td>\n",
       "      <td>0.001639</td>\n",
       "      <td>0.000911</td>\n",
       "      <td>0.001093</td>\n",
       "      <td>0.000911</td>\n",
       "      <td>NaN</td>\n",
       "      <td>...</td>\n",
       "      <td>NaN</td>\n",
       "      <td>NaN</td>\n",
       "      <td>NaN</td>\n",
       "      <td>NaN</td>\n",
       "      <td>NaN</td>\n",
       "      <td>NaN</td>\n",
       "      <td>NaN</td>\n",
       "      <td>NaN</td>\n",
       "      <td>NaN</td>\n",
       "      <td>NaN</td>\n",
       "    </tr>\n",
       "    <tr>\n",
       "      <th>2018-01</th>\n",
       "      <td>1.0</td>\n",
       "      <td>0.003545</td>\n",
       "      <td>0.003250</td>\n",
       "      <td>0.003840</td>\n",
       "      <td>0.001477</td>\n",
       "      <td>0.001920</td>\n",
       "      <td>0.002363</td>\n",
       "      <td>0.000886</td>\n",
       "      <td>NaN</td>\n",
       "      <td>NaN</td>\n",
       "      <td>...</td>\n",
       "      <td>NaN</td>\n",
       "      <td>NaN</td>\n",
       "      <td>NaN</td>\n",
       "      <td>NaN</td>\n",
       "      <td>NaN</td>\n",
       "      <td>NaN</td>\n",
       "      <td>NaN</td>\n",
       "      <td>NaN</td>\n",
       "      <td>NaN</td>\n",
       "      <td>NaN</td>\n",
       "    </tr>\n",
       "    <tr>\n",
       "      <th>2018-02</th>\n",
       "      <td>1.0</td>\n",
       "      <td>0.003191</td>\n",
       "      <td>0.003510</td>\n",
       "      <td>0.002712</td>\n",
       "      <td>0.001914</td>\n",
       "      <td>0.001914</td>\n",
       "      <td>0.001117</td>\n",
       "      <td>NaN</td>\n",
       "      <td>NaN</td>\n",
       "      <td>NaN</td>\n",
       "      <td>...</td>\n",
       "      <td>NaN</td>\n",
       "      <td>NaN</td>\n",
       "      <td>NaN</td>\n",
       "      <td>NaN</td>\n",
       "      <td>NaN</td>\n",
       "      <td>NaN</td>\n",
       "      <td>NaN</td>\n",
       "      <td>NaN</td>\n",
       "      <td>NaN</td>\n",
       "      <td>NaN</td>\n",
       "    </tr>\n",
       "    <tr>\n",
       "      <th>2018-03</th>\n",
       "      <td>1.0</td>\n",
       "      <td>0.003941</td>\n",
       "      <td>0.001606</td>\n",
       "      <td>0.002335</td>\n",
       "      <td>0.001752</td>\n",
       "      <td>0.000584</td>\n",
       "      <td>NaN</td>\n",
       "      <td>NaN</td>\n",
       "      <td>NaN</td>\n",
       "      <td>NaN</td>\n",
       "      <td>...</td>\n",
       "      <td>NaN</td>\n",
       "      <td>NaN</td>\n",
       "      <td>NaN</td>\n",
       "      <td>NaN</td>\n",
       "      <td>NaN</td>\n",
       "      <td>NaN</td>\n",
       "      <td>NaN</td>\n",
       "      <td>NaN</td>\n",
       "      <td>NaN</td>\n",
       "      <td>NaN</td>\n",
       "    </tr>\n",
       "    <tr>\n",
       "      <th>2018-04</th>\n",
       "      <td>1.0</td>\n",
       "      <td>0.004667</td>\n",
       "      <td>0.001400</td>\n",
       "      <td>0.002334</td>\n",
       "      <td>0.001089</td>\n",
       "      <td>NaN</td>\n",
       "      <td>NaN</td>\n",
       "      <td>NaN</td>\n",
       "      <td>NaN</td>\n",
       "      <td>NaN</td>\n",
       "      <td>...</td>\n",
       "      <td>NaN</td>\n",
       "      <td>NaN</td>\n",
       "      <td>NaN</td>\n",
       "      <td>NaN</td>\n",
       "      <td>NaN</td>\n",
       "      <td>NaN</td>\n",
       "      <td>NaN</td>\n",
       "      <td>NaN</td>\n",
       "      <td>NaN</td>\n",
       "      <td>NaN</td>\n",
       "    </tr>\n",
       "    <tr>\n",
       "      <th>2018-05</th>\n",
       "      <td>1.0</td>\n",
       "      <td>0.003138</td>\n",
       "      <td>0.003138</td>\n",
       "      <td>0.000747</td>\n",
       "      <td>NaN</td>\n",
       "      <td>NaN</td>\n",
       "      <td>NaN</td>\n",
       "      <td>NaN</td>\n",
       "      <td>NaN</td>\n",
       "      <td>NaN</td>\n",
       "      <td>...</td>\n",
       "      <td>NaN</td>\n",
       "      <td>NaN</td>\n",
       "      <td>NaN</td>\n",
       "      <td>NaN</td>\n",
       "      <td>NaN</td>\n",
       "      <td>NaN</td>\n",
       "      <td>NaN</td>\n",
       "      <td>NaN</td>\n",
       "      <td>NaN</td>\n",
       "      <td>NaN</td>\n",
       "    </tr>\n",
       "    <tr>\n",
       "      <th>2018-06</th>\n",
       "      <td>1.0</td>\n",
       "      <td>0.003406</td>\n",
       "      <td>0.001022</td>\n",
       "      <td>NaN</td>\n",
       "      <td>NaN</td>\n",
       "      <td>NaN</td>\n",
       "      <td>NaN</td>\n",
       "      <td>NaN</td>\n",
       "      <td>NaN</td>\n",
       "      <td>NaN</td>\n",
       "      <td>...</td>\n",
       "      <td>NaN</td>\n",
       "      <td>NaN</td>\n",
       "      <td>NaN</td>\n",
       "      <td>NaN</td>\n",
       "      <td>NaN</td>\n",
       "      <td>NaN</td>\n",
       "      <td>NaN</td>\n",
       "      <td>NaN</td>\n",
       "      <td>NaN</td>\n",
       "      <td>NaN</td>\n",
       "    </tr>\n",
       "    <tr>\n",
       "      <th>2018-07</th>\n",
       "      <td>1.0</td>\n",
       "      <td>0.001198</td>\n",
       "      <td>NaN</td>\n",
       "      <td>NaN</td>\n",
       "      <td>NaN</td>\n",
       "      <td>NaN</td>\n",
       "      <td>NaN</td>\n",
       "      <td>NaN</td>\n",
       "      <td>NaN</td>\n",
       "      <td>NaN</td>\n",
       "      <td>...</td>\n",
       "      <td>NaN</td>\n",
       "      <td>NaN</td>\n",
       "      <td>NaN</td>\n",
       "      <td>NaN</td>\n",
       "      <td>NaN</td>\n",
       "      <td>NaN</td>\n",
       "      <td>NaN</td>\n",
       "      <td>NaN</td>\n",
       "      <td>NaN</td>\n",
       "      <td>NaN</td>\n",
       "    </tr>\n",
       "    <tr>\n",
       "      <th>2018-08</th>\n",
       "      <td>1.0</td>\n",
       "      <td>NaN</td>\n",
       "      <td>NaN</td>\n",
       "      <td>NaN</td>\n",
       "      <td>NaN</td>\n",
       "      <td>NaN</td>\n",
       "      <td>NaN</td>\n",
       "      <td>NaN</td>\n",
       "      <td>NaN</td>\n",
       "      <td>NaN</td>\n",
       "      <td>...</td>\n",
       "      <td>NaN</td>\n",
       "      <td>NaN</td>\n",
       "      <td>NaN</td>\n",
       "      <td>NaN</td>\n",
       "      <td>NaN</td>\n",
       "      <td>NaN</td>\n",
       "      <td>NaN</td>\n",
       "      <td>NaN</td>\n",
       "      <td>NaN</td>\n",
       "      <td>NaN</td>\n",
       "    </tr>\n",
       "  </tbody>\n",
       "</table>\n",
       "<p>23 rows × 21 columns</p>\n",
       "</div>"
      ],
      "text/plain": [
       "period_number_month  0.0       1.0       2.0       3.0       4.0       5.0   \\\n",
       "month_cohort                                                                  \n",
       "2016-09               1.0       NaN       NaN       NaN       NaN       NaN   \n",
       "2016-10               1.0       NaN       NaN       NaN       NaN       NaN   \n",
       "2016-12               1.0       NaN       NaN       NaN       NaN       NaN   \n",
       "2017-01               1.0  0.002928       NaN  0.005857  0.001464  0.001464   \n",
       "2017-02               1.0  0.001241  0.001861  0.003722  0.002481  0.001241   \n",
       "2017-03               1.0  0.002788  0.004779  0.004381  0.001195  0.000796   \n",
       "2017-04               1.0  0.003584  0.002688       NaN  0.002688  0.003584   \n",
       "2017-05               1.0  0.004056  0.004056  0.002607  0.003766  0.003187   \n",
       "2017-06               1.0  0.004271  0.004928  0.003614  0.001643  0.005256   \n",
       "2017-07               1.0  0.003505  0.002157  0.002696  0.003235  0.001887   \n",
       "2017-08               1.0  0.006616  0.002695  0.003431  0.003921  0.004411   \n",
       "2017-09               1.0  0.005219  0.004722  0.003231  0.003479  0.002485   \n",
       "2017-10               1.0  0.006288  0.000932  0.001164  0.003027  0.001630   \n",
       "2017-11               1.0  0.003321  0.002743  0.001733  0.001444  0.001877   \n",
       "2017-12               1.0  0.002732  0.003461  0.001639  0.002914  0.001639   \n",
       "2018-01               1.0  0.003545  0.003250  0.003840  0.001477  0.001920   \n",
       "2018-02               1.0  0.003191  0.003510  0.002712  0.001914  0.001914   \n",
       "2018-03               1.0  0.003941  0.001606  0.002335  0.001752  0.000584   \n",
       "2018-04               1.0  0.004667  0.001400  0.002334  0.001089       NaN   \n",
       "2018-05               1.0  0.003138  0.003138  0.000747       NaN       NaN   \n",
       "2018-06               1.0  0.003406  0.001022       NaN       NaN       NaN   \n",
       "2018-07               1.0  0.001198       NaN       NaN       NaN       NaN   \n",
       "2018-08               1.0       NaN       NaN       NaN       NaN       NaN   \n",
       "\n",
       "period_number_month      6.0       7.0       8.0       9.0   ...      11.0  \\\n",
       "month_cohort                                                 ...             \n",
       "2016-09                   NaN       NaN       NaN       NaN  ...       NaN   \n",
       "2016-10              0.003817       NaN       NaN  0.003817  ...  0.003817   \n",
       "2016-12                   NaN       NaN       NaN       NaN  ...       NaN   \n",
       "2017-01              0.002928  0.002928       NaN       NaN  ...  0.005857   \n",
       "2017-02              0.002481  0.000620  0.000620  0.002481  ...  0.003722   \n",
       "2017-03              0.003186  0.001991  0.002389  0.002389  ...  0.001593   \n",
       "2017-04              0.002688  0.004480  0.002240  0.002240  ...  0.001344   \n",
       "2017-05              0.003187  0.001448  0.003187  0.002607  ...  0.002897   \n",
       "2017-06              0.002628  0.001971  0.001314  0.002957  ...  0.003285   \n",
       "2017-07              0.002696  0.001887  0.001078  0.002696  ...  0.002427   \n",
       "2017-08              0.002450  0.002450  0.001470  0.001715  ...  0.001715   \n",
       "2017-09              0.002485  0.001491  0.003479  0.001740  ...  0.000249   \n",
       "2017-10              0.002795  0.003959  0.002562  0.002096  ...       NaN   \n",
       "2017-11              0.001155  0.001877  0.000722  0.000289  ...       NaN   \n",
       "2017-12              0.000911  0.001093  0.000911       NaN  ...       NaN   \n",
       "2018-01              0.002363  0.000886       NaN       NaN  ...       NaN   \n",
       "2018-02              0.001117       NaN       NaN       NaN  ...       NaN   \n",
       "2018-03                   NaN       NaN       NaN       NaN  ...       NaN   \n",
       "2018-04                   NaN       NaN       NaN       NaN  ...       NaN   \n",
       "2018-05                   NaN       NaN       NaN       NaN  ...       NaN   \n",
       "2018-06                   NaN       NaN       NaN       NaN  ...       NaN   \n",
       "2018-07                   NaN       NaN       NaN       NaN  ...       NaN   \n",
       "2018-08                   NaN       NaN       NaN       NaN  ...       NaN   \n",
       "\n",
       "period_number_month      12.0      13.0      14.0      15.0      16.0  \\\n",
       "month_cohort                                                            \n",
       "2016-09                   NaN       NaN       NaN       NaN       NaN   \n",
       "2016-10                   NaN  0.003817       NaN  0.003817       NaN   \n",
       "2016-12                   NaN       NaN       NaN       NaN       NaN   \n",
       "2017-01              0.004392  0.002928       NaN  0.002928  0.002928   \n",
       "2017-02              0.000620  0.001861  0.001241  0.000620  0.000620   \n",
       "2017-03              0.001593  0.001195  0.002389  0.001195  0.001195   \n",
       "2017-04                   NaN  0.000896  0.000896  0.000896  0.000896   \n",
       "2017-05              0.001738  0.000869  0.002028  0.001159       NaN   \n",
       "2017-06              0.000986  0.002957  0.001314       NaN       NaN   \n",
       "2017-07              0.001618  0.001887       NaN       NaN       NaN   \n",
       "2017-08              0.000735       NaN       NaN       NaN       NaN   \n",
       "2017-09                   NaN       NaN       NaN       NaN       NaN   \n",
       "2017-10                   NaN       NaN       NaN       NaN       NaN   \n",
       "2017-11                   NaN       NaN       NaN       NaN       NaN   \n",
       "2017-12                   NaN       NaN       NaN       NaN       NaN   \n",
       "2018-01                   NaN       NaN       NaN       NaN       NaN   \n",
       "2018-02                   NaN       NaN       NaN       NaN       NaN   \n",
       "2018-03                   NaN       NaN       NaN       NaN       NaN   \n",
       "2018-04                   NaN       NaN       NaN       NaN       NaN   \n",
       "2018-05                   NaN       NaN       NaN       NaN       NaN   \n",
       "2018-06                   NaN       NaN       NaN       NaN       NaN   \n",
       "2018-07                   NaN       NaN       NaN       NaN       NaN   \n",
       "2018-08                   NaN       NaN       NaN       NaN       NaN   \n",
       "\n",
       "period_number_month      17.0      19.0      20.0      21.0  \n",
       "month_cohort                                                 \n",
       "2016-09                   NaN       NaN       NaN       NaN  \n",
       "2016-10              0.003817  0.007634  0.003817  0.003817  \n",
       "2016-12                   NaN       NaN       NaN       NaN  \n",
       "2017-01              0.002928  0.001464       NaN       NaN  \n",
       "2017-02              0.001861       NaN       NaN       NaN  \n",
       "2017-03              0.000796       NaN       NaN       NaN  \n",
       "2017-04                   NaN       NaN       NaN       NaN  \n",
       "2017-05                   NaN       NaN       NaN       NaN  \n",
       "2017-06                   NaN       NaN       NaN       NaN  \n",
       "2017-07                   NaN       NaN       NaN       NaN  \n",
       "2017-08                   NaN       NaN       NaN       NaN  \n",
       "2017-09                   NaN       NaN       NaN       NaN  \n",
       "2017-10                   NaN       NaN       NaN       NaN  \n",
       "2017-11                   NaN       NaN       NaN       NaN  \n",
       "2017-12                   NaN       NaN       NaN       NaN  \n",
       "2018-01                   NaN       NaN       NaN       NaN  \n",
       "2018-02                   NaN       NaN       NaN       NaN  \n",
       "2018-03                   NaN       NaN       NaN       NaN  \n",
       "2018-04                   NaN       NaN       NaN       NaN  \n",
       "2018-05                   NaN       NaN       NaN       NaN  \n",
       "2018-06                   NaN       NaN       NaN       NaN  \n",
       "2018-07                   NaN       NaN       NaN       NaN  \n",
       "2018-08                   NaN       NaN       NaN       NaN  \n",
       "\n",
       "[23 rows x 21 columns]"
      ]
     },
     "execution_count": 129,
     "metadata": {},
     "output_type": "execute_result"
    }
   ],
   "source": [
    "# Вычислим коэффициенты удержания, деля на размер когорты\n",
    "retention_matrix = cohort_pivot.divide(cohort_size, axis=0)\n",
    "retention_matrix"
   ]
  },
  {
   "cell_type": "code",
   "execution_count": 130,
   "metadata": {},
   "outputs": [
    {
     "data": {
      "text/plain": [
       "0.00350498786734969"
      ]
     },
     "execution_count": 130,
     "metadata": {},
     "output_type": "execute_result"
    }
   ],
   "source": [
    "# определим медианный retention 1-го месяца\n",
    "retention_matrix[1.0].median()"
   ]
  },
  {
   "cell_type": "markdown",
   "metadata": {},
   "source": [
    "## Выводы по задаче 1\n",
    "1. Для расчета метрики retention нас интересуют заказы со статусом (order_status): processing, shipped, delivered, unavailable, так как только эти статусы заказа отражают тот факт, что клиент оплатил заказ.\n",
    "2. Расчеты показали, что медианный retention 1-го месяца равен 0.0035, что говорит об отсутствии удержания клиентов в продукте.\n",
    "3. Самый высокий retention на 3-ий месяц имеет когорта 2017-01, он равен 0.0058."
   ]
  },
  {
   "cell_type": "markdown",
   "metadata": {},
   "source": [
    "# Задача 2. Определить, существует ли product/market fit у маркетплейса.\n",
    "\n",
    "Оценим, насколько хорошо продукт закрывает потребности клиента, для этого определим, существует ли product/market fit у этого маркетплейса для принятия решения о масштабировании. Есть вероятность, что маркетплейс будет приносить убытки.\n",
    "\n",
    "В рамках исследования решим следующие задачи:\n",
    "\n",
    "Оценить наличие product/market fit у данного продукта с помощью когортного анализа, полученного на предыдущем шаге.\n",
    "Пояснить свою позицию и сформулировать, на чём маркетплейс должен сконцентрироваться в ближайшее время. Если PMF есть, то в какую сторону лучше развивать продукт дальше? Если PMF нет, то какие причины могут быть у этого?"
   ]
  },
  {
   "cell_type": "code",
   "execution_count": 131,
   "metadata": {},
   "outputs": [
    {
     "data": {
      "text/plain": [
       "32951"
      ]
     },
     "execution_count": 131,
     "metadata": {},
     "output_type": "execute_result"
    }
   ],
   "source": [
    "# Количество уникальных товаров, заказанных на платформе\n",
    "order_items.product_id.nunique()"
   ]
  },
  {
   "cell_type": "code",
   "execution_count": 132,
   "metadata": {},
   "outputs": [
    {
     "data": {
      "text/plain": [
       "0.6124234470691163"
      ]
     },
     "execution_count": 132,
     "metadata": {},
     "output_type": "execute_result"
    }
   ],
   "source": [
    "# процент отменненных заказов по причине недоступности товара;\n",
    "orders_dataset.query(\"order_status == 'unavailable'\").order_id.nunique()*100 / orders_dataset.order_id.nunique()"
   ]
  },
  {
   "cell_type": "code",
   "execution_count": 133,
   "metadata": {},
   "outputs": [
    {
     "data": {
      "text/plain": [
       "0.6285133898492573"
      ]
     },
     "execution_count": 133,
     "metadata": {},
     "output_type": "execute_result"
    }
   ],
   "source": [
    "# процент отмененных заказов\n",
    "orders_dataset.query(\"order_status == 'canceled'\").order_id.nunique()*100 / orders_dataset.order_id.nunique()"
   ]
  },
  {
   "cell_type": "code",
   "execution_count": 134,
   "metadata": {},
   "outputs": [],
   "source": [
    "# создадим копию датафрейма и удалим строки с пустыми значениями\n",
    "delivery_time = orders_dataset.copy()\n",
    "delivery_time.dropna(subset=['order_approved_at', 'order_delivered_carrier_date', 'order_delivered_customer_date'], inplace=True)"
   ]
  },
  {
   "cell_type": "code",
   "execution_count": 135,
   "metadata": {},
   "outputs": [],
   "source": [
    "# рассчитаем время разных этапов заказа\n",
    "\n",
    "# сколько времени до подтверждения заказа\n",
    "delivery_time['time_approved'] = delivery_time.order_approved_at - delivery_time.order_purchase_timestamp\n",
    "# сколько времени в среднем передают в логистическую службу\n",
    "delivery_time['time_carrier'] = delivery_time.order_delivered_carrier_date - delivery_time.order_approved_at\n",
    "# сколько в среднем доставляется заказ логистической компанией\n",
    "delivery_time['time_delivered_customer'] = delivery_time.order_delivered_customer_date - delivery_time.order_delivered_carrier_date\n",
    "# сколько в среднем доставляется заказ суммарно\n",
    "delivery_time['time_all_delivered'] = delivery_time.order_delivered_customer_date - delivery_time.order_approved_at\n",
    "# есть ли разница между обещанным сроком доставки и фактическим\n",
    "delivery_time['time_estimated'] = delivery_time.order_estimated_delivery_date - delivery_time.order_delivered_customer_date"
   ]
  },
  {
   "cell_type": "code",
   "execution_count": 136,
   "metadata": {},
   "outputs": [
    {
     "data": {
      "text/plain": [
       "count                        96461\n",
       "mean     0 days 10:16:39.837893034\n",
       "std      0 days 20:32:08.144063780\n",
       "min                0 days 00:00:00\n",
       "25%                0 days 00:12:55\n",
       "50%                0 days 00:20:36\n",
       "75%                0 days 14:31:05\n",
       "max               30 days 21:26:37\n",
       "Name: time_approved, dtype: object"
      ]
     },
     "execution_count": 136,
     "metadata": {},
     "output_type": "execute_result"
    }
   ],
   "source": [
    "#сколько времени до подтверждения заказа\n",
    "delivery_time.time_approved.describe()"
   ]
  },
  {
   "cell_type": "code",
   "execution_count": 137,
   "metadata": {},
   "outputs": [
    {
     "data": {
      "text/plain": [
       "count                        96461\n",
       "mean     2 days 19:10:58.028685168\n",
       "std      3 days 12:54:06.348358820\n",
       "min            -172 days +18:44:38\n",
       "25%                0 days 20:59:05\n",
       "50%                1 days 19:34:50\n",
       "75%                3 days 13:48:18\n",
       "max              125 days 18:18:06\n",
       "Name: time_carrier, dtype: object"
      ]
     },
     "execution_count": 137,
     "metadata": {},
     "output_type": "execute_result"
    }
   ],
   "source": [
    "#сколько времени в среднем передают в логистическую службу\n",
    "delivery_time.time_carrier.describe()"
   ]
  },
  {
   "cell_type": "markdown",
   "metadata": {},
   "source": [
    "В данном случае видно, что минимальный срок передачи заказа в логистическую компанию составляет -172 дня, что указывает на ошибку в данных, посмотрим, как много ошибок в данных:"
   ]
  },
  {
   "cell_type": "code",
   "execution_count": 138,
   "metadata": {},
   "outputs": [],
   "source": [
    "# посмотреть подробно проблему ошибок в записях\n",
    "#delivery_time.sort_values('time_carrier', ascending=True).head()"
   ]
  },
  {
   "cell_type": "code",
   "execution_count": 139,
   "metadata": {},
   "outputs": [
    {
     "name": "stdout",
     "output_type": "stream",
     "text": [
      "Количество записей, когда товар был передан в логистическую службу раньше, чем получено подтверждение оплаты: 1350\n",
      "Количество записей, когда товар был передан в логистическую службу раньше, чем оформлен: 165\n",
      "Количество записей, когда логистическая компания доставила заказ раньше, чем получила: 23\n"
     ]
    }
   ],
   "source": [
    "# смотрим количество записей с ошибками\n",
    "delivery_time_01 = delivery_time.query(\"order_delivered_carrier_date < order_approved_at\").order_id.count()\n",
    "print(f\"Количество записей, когда товар был передан в логистическую службу раньше, чем получено подтверждение оплаты: {delivery_time_01:.0f}\")\n",
    "\n",
    "delivery_time_02 = delivery_time.query(\"order_delivered_carrier_date < order_purchase_timestamp\").order_id.count()\n",
    "print(f\"Количество записей, когда товар был передан в логистическую службу раньше, чем оформлен: {delivery_time_02:.0f}\")\n",
    "\n",
    "delivery_time_03 = delivery_time.query(\"order_delivered_customer_date < order_delivered_carrier_date\").order_id.count()\n",
    "print(f\"Количество записей, когда логистическая компания доставила заказ раньше, чем получила: {delivery_time_03:.0f}\")"
   ]
  },
  {
   "cell_type": "markdown",
   "metadata": {},
   "source": [
    "Учитывая, что общее количество записей почти 100 тысяч, для оценки средних значений времени доставки исключим некорректные записи из датасета"
   ]
  },
  {
   "cell_type": "code",
   "execution_count": 140,
   "metadata": {},
   "outputs": [
    {
     "data": {
      "text/plain": [
       "count                        95111\n",
       "mean     2 days 20:29:13.224579701\n",
       "std      3 days 11:39:43.879789556\n",
       "min                0 days 00:00:15\n",
       "25%                0 days 21:36:50\n",
       "50%                1 days 20:22:51\n",
       "75%                3 days 14:51:25\n",
       "max              125 days 18:18:06\n",
       "Name: time_carrier, dtype: object"
      ]
     },
     "execution_count": 140,
     "metadata": {},
     "output_type": "execute_result"
    }
   ],
   "source": [
    "# сколько времени в среднем передают в логистическую службу\n",
    "# исключаем отрицательные значения и выводим описательную статистику\n",
    "delivery_time_1 = delivery_time.query(\"order_delivered_carrier_date > order_approved_at\")\n",
    "delivery_time_1.time_carrier.describe()"
   ]
  },
  {
   "cell_type": "code",
   "execution_count": 141,
   "metadata": {},
   "outputs": [
    {
     "data": {
      "text/plain": [
       "count                        96429\n",
       "mean     9 days 08:01:43.613176533\n",
       "std      8 days 18:13:27.772741923\n",
       "min                0 days 00:00:01\n",
       "25%                4 days 02:27:31\n",
       "50%                7 days 02:24:37\n",
       "75%               12 days 00:44:55\n",
       "max              205 days 04:35:00\n",
       "Name: time_delivered_customer, dtype: object"
      ]
     },
     "execution_count": 141,
     "metadata": {},
     "output_type": "execute_result"
    }
   ],
   "source": [
    "# сколько в среднем доставляется заказ логистической компанией\n",
    "# исключаем отрицательные значения и выводим описательную статистику\n",
    "delivery_time_2 = delivery_time.query(\"order_delivered_customer_date > order_delivered_carrier_date\")\n",
    "delivery_time_2.time_delivered_customer.describe()"
   ]
  },
  {
   "cell_type": "code",
   "execution_count": 142,
   "metadata": {},
   "outputs": [
    {
     "data": {
      "text/plain": [
       "count                         96400\n",
       "mean     12 days 03:19:38.884678423\n",
       "std       9 days 12:18:11.756795673\n",
       "min                 0 days 00:11:02\n",
       "25%          6 days 07:33:24.500000\n",
       "50%                 9 days 20:34:24\n",
       "75%         15 days 03:28:40.500000\n",
       "max               208 days 12:01:24\n",
       "Name: time_all_delivered, dtype: object"
      ]
     },
     "execution_count": 142,
     "metadata": {},
     "output_type": "execute_result"
    }
   ],
   "source": [
    "# сколько в среднем доставляется заказ суммарно\n",
    "# исключаем отрицательные значения и выводим описательную статистику\n",
    "delivery_time_3 = delivery_time.query(\"order_delivered_customer_date > order_approved_at\")\n",
    "delivery_time_3.time_all_delivered.describe()"
   ]
  },
  {
   "cell_type": "code",
   "execution_count": 143,
   "metadata": {},
   "outputs": [
    {
     "data": {
      "text/plain": [
       "count                         96461\n",
       "mean     11 days 04:16:01.007909932\n",
       "std      10 days 04:27:25.366427548\n",
       "min             -189 days +00:35:53\n",
       "25%                 6 days 09:20:35\n",
       "50%                11 days 22:41:24\n",
       "75%                16 days 05:51:07\n",
       "max               146 days 00:23:13\n",
       "Name: time_estimated, dtype: object"
      ]
     },
     "execution_count": 143,
     "metadata": {},
     "output_type": "execute_result"
    }
   ],
   "source": [
    "# есть ли разница между обещанным сроком и фактическим\n",
    "delivery_time.time_estimated.describe()"
   ]
  },
  {
   "cell_type": "code",
   "execution_count": 144,
   "metadata": {},
   "outputs": [
    {
     "data": {
      "text/plain": [
       "7826"
      ]
     },
     "execution_count": 144,
     "metadata": {},
     "output_type": "execute_result"
    }
   ],
   "source": [
    "# сколько заказов доставлено позже обещанного срока\n",
    "res_late = delivery_time[delivery_time['time_estimated'] < pd.Timedelta(0)].order_id.nunique()\n",
    "res_late"
   ]
  },
  {
   "cell_type": "code",
   "execution_count": 145,
   "metadata": {},
   "outputs": [
    {
     "data": {
      "text/plain": [
       "0.08113123438488094"
      ]
     },
     "execution_count": 145,
     "metadata": {},
     "output_type": "execute_result"
    }
   ],
   "source": [
    "# сколько заказов доставлено позже обещанного срока в долях от общего\n",
    "res_late / delivery_time.order_id.nunique()"
   ]
  },
  {
   "cell_type": "code",
   "execution_count": 146,
   "metadata": {},
   "outputs": [
    {
     "data": {
      "text/plain": [
       "np.float64(13219046.0)"
      ]
     },
     "execution_count": 146,
     "metadata": {},
     "output_type": "execute_result"
    }
   ],
   "source": [
    "# сколько суммарно было получено дохода\n",
    "full_df.price.sum().round()"
   ]
  },
  {
   "cell_type": "code",
   "execution_count": 147,
   "metadata": {},
   "outputs": [
    {
     "data": {
      "image/png": "[encoded data removed]",
      "text/plain": [
       "<Figure size 2000x500 with 1 Axes>"
      ]
     },
     "metadata": {},
     "output_type": "display_data"
    }
   ],
   "source": [
    "# доход по месяцам\n",
    "full_df['date_approved'] = full_df['order_approved_at'].dt.strftime('%Y-%m')\n",
    "revenue = full_df.groupby('date_approved', as_index=False).agg({'price':'sum'})\n",
    "sns.lineplot(x=\"date_approved\", y=\"price\", data=revenue)\n",
    "plt.show()"
   ]
  },
  {
   "cell_type": "code",
   "execution_count": 148,
   "metadata": {},
   "outputs": [
    {
     "data": {
      "text/html": [
       "<div>\n",
       "<style scoped>\n",
       "    .dataframe tbody tr th:only-of-type {\n",
       "        vertical-align: middle;\n",
       "    }\n",
       "\n",
       "    .dataframe tbody tr th {\n",
       "        vertical-align: top;\n",
       "    }\n",
       "\n",
       "    .dataframe thead th {\n",
       "        text-align: right;\n",
       "    }\n",
       "</style>\n",
       "<table border=\"1\" class=\"dataframe\">\n",
       "  <thead>\n",
       "    <tr style=\"text-align: right;\">\n",
       "      <th></th>\n",
       "      <th>price</th>\n",
       "    </tr>\n",
       "  </thead>\n",
       "  <tbody>\n",
       "    <tr>\n",
       "      <th>count</th>\n",
       "      <td>96461.000000</td>\n",
       "    </tr>\n",
       "    <tr>\n",
       "      <th>mean</th>\n",
       "      <td>137.040313</td>\n",
       "    </tr>\n",
       "    <tr>\n",
       "      <th>std</th>\n",
       "      <td>209.059760</td>\n",
       "    </tr>\n",
       "    <tr>\n",
       "      <th>min</th>\n",
       "      <td>0.850000</td>\n",
       "    </tr>\n",
       "    <tr>\n",
       "      <th>25%</th>\n",
       "      <td>45.900000</td>\n",
       "    </tr>\n",
       "    <tr>\n",
       "      <th>50%</th>\n",
       "      <td>86.500000</td>\n",
       "    </tr>\n",
       "    <tr>\n",
       "      <th>75%</th>\n",
       "      <td>149.900000</td>\n",
       "    </tr>\n",
       "    <tr>\n",
       "      <th>max</th>\n",
       "      <td>13440.000000</td>\n",
       "    </tr>\n",
       "  </tbody>\n",
       "</table>\n",
       "</div>"
      ],
      "text/plain": [
       "              price\n",
       "count  96461.000000\n",
       "mean     137.040313\n",
       "std      209.059760\n",
       "min        0.850000\n",
       "25%       45.900000\n",
       "50%       86.500000\n",
       "75%      149.900000\n",
       "max    13440.000000"
      ]
     },
     "execution_count": 148,
     "metadata": {},
     "output_type": "execute_result"
    }
   ],
   "source": [
    "# описательная статистика по доходу от заказов\n",
    "full_df.groupby('order_id').agg({'price':'sum'}).describe()"
   ]
  },
  {
   "cell_type": "code",
   "execution_count": 149,
   "metadata": {},
   "outputs": [
    {
     "data": {
      "image/png": "[encoded data removed]",
      "text/plain": [
       "<Figure size 2000x500 with 1 Axes>"
      ]
     },
     "metadata": {},
     "output_type": "display_data"
    }
   ],
   "source": [
    "# количество заказов по месяцам\n",
    "cnt_ord = full_df.groupby('date_approved', as_index=False).agg({'order_id':'count'})\n",
    "sns.lineplot(x=\"date_approved\", y=\"order_id\", data=cnt_ord)\n",
    "plt.show()"
   ]
  },
  {
   "cell_type": "code",
   "execution_count": 150,
   "metadata": {},
   "outputs": [
    {
     "data": {
      "image/png": "[encoded data removed]",
      "text/plain": [
       "<Figure size 2000x500 with 1 Axes>"
      ]
     },
     "metadata": {},
     "output_type": "display_data"
    }
   ],
   "source": [
    "# количество товаров по месяцам\n",
    "cnt_prod = full_df.groupby('date_approved', as_index=False).agg({'product_id':'count'})\n",
    "sns.lineplot(x=\"date_approved\", y=\"product_id\", data=cnt_prod)\n",
    "plt.show()"
   ]
  },
  {
   "cell_type": "markdown",
   "metadata": {},
   "source": [
    "## Выводы по задаче 2\n",
    "У данного продукта отсутствует product/market fit, что показывают данные:не происходит удержание клиентов, retention меньше 1 процента. В первую очередь маркетплейсу необходимо сконцентрироваться на повышении retention: подробнее изучить клиентов и их потребности.\n",
    "\n",
    "Анализ данных показал, что самым слабым местом маркетплейса являеются сроки доставок заказов. Несмотря на то, что реальный срок доставки в среднем на 11 дней меньше обещанного, среднее время доставки товара 9 дней, а каждый 4 клиент ожидает товар более 2 недель. В дополнение почти 10 процентов клиентов получают заказ позже обещанного срока, что также отрицательно влияет на PMF.\n",
    "Можно предположить, что в настоящее время у клиентов есть возможность получить заказ быстрее, поэтому они уходят на другие площадки. \n",
    "\n",
    "Причем сам маркетплейс оперативно передает товары логистической компании и основной срок доставки приходится именно на нее. Можно попробовать воспользоваться услугами другой логистической компании.\n",
    "\n",
    "Также можно принять во внимание время от оформления до подтверждения заказа. Четверть клиентов подтверждают заказ спустя более чем 14 часов после оформления. Если направить маркетинг на данную аудиторию, можно уменьшить это время, дав возможность клиенту осознать ценность продукта.\n",
    "\n",
    "Исследованы также другие факторы, которые не влияют или влияют незначительно на retention:\n",
    "- ассортимент, он достаточно большой почти 33 тысячи, из этого можно предположить, что отсутствие PMF не связано с небольшим ассортиментом товаровно для уверенности можно изучить ассортимент конкурентов;\n",
    "- отмена заказов, доля всех отмененных заказов слишком мала, около 1 процента от всех заказов, поэтому не может значительно изменить PMF\n",
    "\n",
    "\n",
    "Анализ дохода маркетплейса показал что последние 3 месяца действительно показывают доходность ниже, чем в предыдущие месяцы, но подобный тренд можно обнаружить и годом ранее, когда доход июня был меньше, чем в мае. Вероятно это связано с сезонностью, клиенты могут летом находиться в отпуске не дома, поэтому меньше покупать товаров."
   ]
  },
  {
   "cell_type": "markdown",
   "metadata": {},
   "source": [
    "# Задача 3. Определить 5 основных метрик, на которых продакт может сконцентрироваться, чтобы максимизировать прибыль компании.\n",
    "\n",
    "Определим 5 основных метрик, на которых продакт может сконцентрироваться, чтобы максимизировать прибыль компании.\n",
    "\n",
    "Первая метрика должна отражать рост объёма продаж маркетплейса.\n",
    "Вторая — показывать объем аудитории, которой продукт доставляет ценность.\n",
    "Третья — отражать заинтересованность новых клиентов в продукте.\n",
    "Четвёртая — отражать вовлеченность клиента в продолжение использования продукта.\n",
    "Пятая — отражать денежное выражение вовлеченности клиента."
   ]
  },
  {
   "cell_type": "markdown",
   "metadata": {},
   "source": [
    "В качестве первой метрики, с помощью которой можно отслеживать рост объёма продаж маркетплейса, используем доход маркетплейса в месяц."
   ]
  },
  {
   "cell_type": "code",
   "execution_count": 151,
   "metadata": {},
   "outputs": [
    {
     "data": {
      "image/png": "[encoded data removed]",
      "text/plain": [
       "<Figure size 2000x500 with 1 Axes>"
      ]
     },
     "metadata": {},
     "output_type": "display_data"
    }
   ],
   "source": [
    "# доход по месяцам\n",
    "revenue = full_df.groupby('date_approved', as_index=False).agg(revenue=('price','sum'))\n",
    "sns.lineplot(x=\"date_approved\", y=\"revenue\", data=revenue)\n",
    "\n",
    "plt.title('Доход по месяцам')\n",
    "plt.xlabel('Месяцы')\n",
    "plt.ylabel('Доход')\n",
    "# plt.xticks(rotation=45)\n",
    "# plt.tight_layout()\n",
    "plt.show()"
   ]
  },
  {
   "cell_type": "markdown",
   "metadata": {},
   "source": [
    "В качестве второй метрики, которая будет показывать объем аудитории, которой продукт доставляет ценность, будем рассчитывать долю аудитории, которые сделали больше 2 заказов.\n",
    "Предполагаем, если клиент сделал два заказа, его все устроило и он сделал третий заказ, то он осознает ценность продукта."
   ]
  },
  {
   "cell_type": "code",
   "execution_count": 152,
   "metadata": {},
   "outputs": [
    {
     "data": {
      "text/html": [
       "<div>\n",
       "<style scoped>\n",
       "    .dataframe tbody tr th:only-of-type {\n",
       "        vertical-align: middle;\n",
       "    }\n",
       "\n",
       "    .dataframe tbody tr th {\n",
       "        vertical-align: top;\n",
       "    }\n",
       "\n",
       "    .dataframe thead th {\n",
       "        text-align: right;\n",
       "    }\n",
       "</style>\n",
       "<table border=\"1\" class=\"dataframe\">\n",
       "  <thead>\n",
       "    <tr style=\"text-align: right;\">\n",
       "      <th></th>\n",
       "      <th>order_id</th>\n",
       "    </tr>\n",
       "  </thead>\n",
       "  <tbody>\n",
       "    <tr>\n",
       "      <th>count</th>\n",
       "      <td>93342.000000</td>\n",
       "    </tr>\n",
       "    <tr>\n",
       "      <th>mean</th>\n",
       "      <td>1.033415</td>\n",
       "    </tr>\n",
       "    <tr>\n",
       "      <th>std</th>\n",
       "      <td>0.209091</td>\n",
       "    </tr>\n",
       "    <tr>\n",
       "      <th>min</th>\n",
       "      <td>1.000000</td>\n",
       "    </tr>\n",
       "    <tr>\n",
       "      <th>25%</th>\n",
       "      <td>1.000000</td>\n",
       "    </tr>\n",
       "    <tr>\n",
       "      <th>50%</th>\n",
       "      <td>1.000000</td>\n",
       "    </tr>\n",
       "    <tr>\n",
       "      <th>75%</th>\n",
       "      <td>1.000000</td>\n",
       "    </tr>\n",
       "    <tr>\n",
       "      <th>max</th>\n",
       "      <td>15.000000</td>\n",
       "    </tr>\n",
       "  </tbody>\n",
       "</table>\n",
       "</div>"
      ],
      "text/plain": [
       "           order_id\n",
       "count  93342.000000\n",
       "mean       1.033415\n",
       "std        0.209091\n",
       "min        1.000000\n",
       "25%        1.000000\n",
       "50%        1.000000\n",
       "75%        1.000000\n",
       "max       15.000000"
      ]
     },
     "execution_count": 152,
     "metadata": {},
     "output_type": "execute_result"
    }
   ],
   "source": [
    "# Посмотрим описательную статистику по тому, сколько заказов делают клиенты\n",
    "order_cnt_cust =cust_ord.groupby('customer_unique_id', as_index=False).agg({'order_id':'nunique'})\n",
    "order_cnt_cust.describe()"
   ]
  },
  {
   "cell_type": "code",
   "execution_count": 153,
   "metadata": {},
   "outputs": [
    {
     "data": {
      "text/html": [
       "<div>\n",
       "<style scoped>\n",
       "    .dataframe tbody tr th:only-of-type {\n",
       "        vertical-align: middle;\n",
       "    }\n",
       "\n",
       "    .dataframe tbody tr th {\n",
       "        vertical-align: top;\n",
       "    }\n",
       "\n",
       "    .dataframe thead th {\n",
       "        text-align: right;\n",
       "    }\n",
       "</style>\n",
       "<table border=\"1\" class=\"dataframe\">\n",
       "  <thead>\n",
       "    <tr style=\"text-align: right;\">\n",
       "      <th></th>\n",
       "      <th>order_id</th>\n",
       "      <th>customer_unique_id</th>\n",
       "    </tr>\n",
       "  </thead>\n",
       "  <tbody>\n",
       "    <tr>\n",
       "      <th>2</th>\n",
       "      <td>3</td>\n",
       "      <td>181</td>\n",
       "    </tr>\n",
       "    <tr>\n",
       "      <th>3</th>\n",
       "      <td>4</td>\n",
       "      <td>28</td>\n",
       "    </tr>\n",
       "    <tr>\n",
       "      <th>4</th>\n",
       "      <td>5</td>\n",
       "      <td>9</td>\n",
       "    </tr>\n",
       "    <tr>\n",
       "      <th>5</th>\n",
       "      <td>6</td>\n",
       "      <td>5</td>\n",
       "    </tr>\n",
       "    <tr>\n",
       "      <th>6</th>\n",
       "      <td>7</td>\n",
       "      <td>3</td>\n",
       "    </tr>\n",
       "    <tr>\n",
       "      <th>7</th>\n",
       "      <td>9</td>\n",
       "      <td>1</td>\n",
       "    </tr>\n",
       "    <tr>\n",
       "      <th>8</th>\n",
       "      <td>15</td>\n",
       "      <td>1</td>\n",
       "    </tr>\n",
       "  </tbody>\n",
       "</table>\n",
       "</div>"
      ],
      "text/plain": [
       "   order_id  customer_unique_id\n",
       "2         3                 181\n",
       "3         4                  28\n",
       "4         5                   9\n",
       "5         6                   5\n",
       "6         7                   3\n",
       "7         9                   1\n",
       "8        15                   1"
      ]
     },
     "execution_count": 153,
     "metadata": {},
     "output_type": "execute_result"
    }
   ],
   "source": [
    "# посмотрим, сколько было клиентов с покупками больше 2\n",
    "cast_value = order_cnt_cust.groupby('order_id', as_index= False).agg({'customer_unique_id':'count'}).query(\"order_id > 2\")\n",
    "cast_value"
   ]
  },
  {
   "cell_type": "code",
   "execution_count": 154,
   "metadata": {},
   "outputs": [],
   "source": [
    "# посчитаем количество клиентов, которые сделали больше 1-2 заказа и больше 2 заказов\n",
    "loyal = order_cnt_cust.groupby('order_id', as_index= False).agg({'customer_unique_id':'count'}).query(\"order_id > 1\").customer_unique_id.sum()\n",
    "not_loyal = order_cnt_cust.groupby('order_id', as_index= False).agg({'customer_unique_id':'count'}).query(\"order_id <= 1\").customer_unique_id.sum()\n",
    "\n",
    "# объединим данные в датасет для графического отображения\n",
    "loyal_customer = {\n",
    "    'лояльность': ['Лояльные', 'Нелояльные'],\n",
    "    'количество': [loyal, not_loyal] }\n",
    "df_loyal_customer = pd.DataFrame(loyal_customer)"
   ]
  },
  {
   "cell_type": "code",
   "execution_count": 155,
   "metadata": {},
   "outputs": [
    {
     "data": {
      "image/png": "[encoded data removed]",
      "text/plain": [
       "<Figure size 2000x500 with 1 Axes>"
      ]
     },
     "metadata": {},
     "output_type": "display_data"
    }
   ],
   "source": [
    "# Посмотрим долю лояльных пользователей на круговой диаграмме\n",
    "plt.pie(df_loyal_customer['количество'], labels=df_loyal_customer['лояльность'], autopct='%1.1f%%', startangle=90)\n",
    "plt.show()"
   ]
  },
  {
   "cell_type": "markdown",
   "metadata": {},
   "source": [
    "В качестве третьей метрики, которая будет отражать заинтересованность новых клиентов в продукте, будем использовать MAU - число уникальных активных пользователей за месяц."
   ]
  },
  {
   "cell_type": "code",
   "execution_count": 156,
   "metadata": {},
   "outputs": [],
   "source": [
    "# количество уникальных пользователей за месяц\n",
    "cnt_unique_cust = full_df.groupby('date_approved', as_index=False).agg({'customer_unique_id':'count'})\n",
    "# sns.lineplot(x=\"date_approved\", y=\"customer_unique_id\", data=cnt_unique_cust)\n",
    "# plt.show()"
   ]
  },
  {
   "cell_type": "markdown",
   "metadata": {},
   "source": [
    "В качестве четвертой метрики, которая будет отражать вовлеченность клиента в продолжение использования продукта, используем retention."
   ]
  },
  {
   "cell_type": "code",
   "execution_count": 157,
   "metadata": {},
   "outputs": [
    {
     "data": {
      "image/png": "[encoded data removed]",
      "text/plain": [
       "<Figure size 1600x1200 with 3 Axes>"
      ]
     },
     "metadata": {},
     "output_type": "display_data"
    }
   ],
   "source": [
    "# Построим тепловую карту когортного анализа\n",
    "with sns.axes_style(\"white\"):\n",
    "    fig, ax = plt.subplots(1, 2, figsize=(16, 12), sharey=True, gridspec_kw={'width_ratios': [1, 11]})\n",
    "\n",
    "    # Тепловая карта для коэффициентов удержания\n",
    "    sns.heatmap(retention_matrix,\n",
    "                mask=retention_matrix.isnull(),\n",
    "                annot=True,\n",
    "                fmt='.0%',\n",
    "                cmap='RdYlGn',\n",
    "                ax=ax[1])\n",
    "    ax[1].set_title('Monthly Retention', fontsize=16)\n",
    "    ax[1].set(xlabel='№ периода', ylabel='Когорта')\n",
    "\n",
    "    # Тепловая карта для размеров когорт\n",
    "    cohort_size_df = pd.DataFrame(cohort_size).rename(columns={0: 'cohort_size'})\n",
    "    white_cmap = mcolors.ListedColormap(['white'])\n",
    "    sns.heatmap(cohort_size_df,\n",
    "                annot=True,\n",
    "                cbar=False,\n",
    "                fmt='g',\n",
    "                cmap=white_cmap,\n",
    "                ax=ax[0])\n",
    "\n",
    "    fig.tight_layout()\n",
    "    plt.show()"
   ]
  },
  {
   "cell_type": "markdown",
   "metadata": {},
   "source": [
    "В качестве пятой метрики, которая будет отражать денежное выражение вовлеченности клиента, используем ARPPU - среднюю выручку на платящего пользователя."
   ]
  },
  {
   "cell_type": "code",
   "execution_count": 158,
   "metadata": {},
   "outputs": [],
   "source": [
    "# подготовим данные для отображения ARPPU по месяцам\n",
    "\n",
    "# рассчитаем сумму каждого заказа клиента\n",
    "sum_gds = full_df.groupby(['date_approved', 'customer_unique_id', 'order_id'], as_index=False).agg({'price':'sum'})\n",
    "# рассчитаем среднюю стоимость заказа для каждого клиента\n",
    "mean_cust = sum_gds.groupby(['date_approved', 'customer_unique_id'], as_index=False).agg({'price':'mean'})\n",
    "# рассчитаем среднюю стоимость заказа по месяцам\n",
    "arppu_month = mean_cust.groupby('date_approved', as_index=False).agg({'price':'mean'})"
   ]
  },
  {
   "cell_type": "code",
   "execution_count": 159,
   "metadata": {},
   "outputs": [
    {
     "data": {
      "image/png": "[encoded data removed]",
      "text/plain": [
       "<Figure size 2000x500 with 1 Axes>"
      ]
     },
     "metadata": {},
     "output_type": "display_data"
    }
   ],
   "source": [
    "sns.lineplot(x=\"date_approved\", y=\"price\", data=arppu_month)\n",
    "plt.show()"
   ]
  },
  {
   "cell_type": "markdown",
   "metadata": {},
   "source": [
    "# Выводы по задаче 3\n",
    "\n",
    "Сконцентрируемся на следующих метриках для максимизации прибыли компании:\n",
    "\n",
    "- в качестве первой метрики, с помощью которой можно отслеживать рост объёма продаж маркетплейса, используем доход маркетплейса в месяц;\n",
    "- в качестве второй метрики, которая будет показывать объем аудитории, которой продукт доставляет ценность, будем рассчитывать долю аудитории, которые сделали больше 2 заказов;\n",
    "- в качестве третьей метрики, которая будет отражать заинтересованность новых клиентов в продукте, будем использовать MAU - число уникальных активных пользователей за месяц;\n",
    "- в качестве четвертой метрики, которая будет отражать вовлеченность клиента в продолжение использования продукта, используем retention;\n",
    "- в качестве пятой метрики, которая будет отражать денежное выражение вовлеченности клиента, используем ARPPU - среднюю выручку на платящего пользователя."
   ]
  },
  {
   "cell_type": "markdown",
   "metadata": {},
   "source": [
    "# Задача 4. Выбрать одну из 3 основных гипотез с помощью фреймворка ICE.\n",
    "\n",
    "Вместе с командой были сформулировали 3 гипотезы. Проверим эти гипотезы с помощью фреймворка ICE."
   ]
  },
  {
   "cell_type": "code",
   "execution_count": 160,
   "metadata": {},
   "outputs": [],
   "source": [
    "# команда заполнила показатели по Ease, Confidence\n",
    "confidence_1 = 8\n",
    "confidence_2 = 10\n",
    "confidence_3 = 5\n",
    "\n",
    "ease_1 = 6\n",
    "ease_2 = 4\n",
    "ease_3 = 9"
   ]
  },
  {
   "cell_type": "code",
   "execution_count": 161,
   "metadata": {},
   "outputs": [],
   "source": [
    "# предобработаем данные, добавим столбец с месяцем\n",
    "orders_dataset['month_ord'] = orders_dataset['order_approved_at'].dt.to_period('M')"
   ]
  },
  {
   "cell_type": "code",
   "execution_count": 162,
   "metadata": {},
   "outputs": [
    {
     "data": {
      "text/plain": [
       "85464"
      ]
     },
     "execution_count": 162,
     "metadata": {},
     "output_type": "execute_result"
    }
   ],
   "source": [
    "# посмотрим количество доставленных заказов с июня 2017 \n",
    "orders_dataset.loc[(orders_dataset['month_ord'] >= '2017-06') & (orders_dataset['order_status'] == 'delivered')].order_id.nunique()"
   ]
  },
  {
   "cell_type": "markdown",
   "metadata": {},
   "source": [
    "### Гипотеза 1\n",
    "Если исправим баг в системе процессинга заказов, то клиентам не придётся сталкиваться с проблемой отмены заказа, вследствие чего количество доставленных заказов увеличится. Считаем, что мы таким образом избавимся от всех отмен.\n",
    "\n",
    "Для этого посчитаем количество отмененных заказов. Считаем только заказы со статусом unavailable (отменено по причине недоступности товара), так как система может заранее проверить наличие товара на складе, тогда как статус canceled скорее всего связан с личными причинами отмен заказов клиентами и на него повлиять исправление бага не сможет."
   ]
  },
  {
   "cell_type": "code",
   "execution_count": 163,
   "metadata": {},
   "outputs": [
    {
     "name": "stdout",
     "output_type": "stream",
     "text": [
      "Количество отмененных заказов в июне 2017: 475\n"
     ]
    }
   ],
   "source": [
    "# рассчитаем количество отмененных заказов в июне 2017 \n",
    "impact_hypothesis_1 = orders_dataset.loc[\n",
    "    (orders_dataset['month_ord'] >= '2017-06') & \n",
    "    (orders_dataset['order_status'].isin(['unavailable']))\n",
    "].order_id.nunique()\n",
    "\n",
    "print(f\"Количество отмененных заказов в июне 2017: {impact_hypothesis_1:.0f}\")"
   ]
  },
  {
   "cell_type": "markdown",
   "metadata": {},
   "source": [
    "### Гипотеза 2\n",
    "Если сократим время до отгрузки заказа, то клиенты перестанут получать свой заказ с запаздыванием, вследствие чего количество заказов увеличится за счёт повторных заказов. \n",
    "\n",
    "Посчитаем количество заказов доставленных позже обещанного срока и умножим на retention первого месяца"
   ]
  },
  {
   "cell_type": "code",
   "execution_count": 165,
   "metadata": {},
   "outputs": [
    {
     "name": "stdout",
     "output_type": "stream",
     "text": [
      "Гипотеза 2 позволит увеличить продажи на 27 заказов\n"
     ]
    }
   ],
   "source": [
    "# рассчитаем, на сколько заказов мы сможем увеличить продажи\n",
    "gip_2 = res_late * 0.0035\n",
    "print(f\"Гипотеза 2 позволит увеличить продажи на {gip_2:.0f} заказов\")"
   ]
  },
  {
   "cell_type": "markdown",
   "metadata": {},
   "source": [
    "### Гипотеза 3\n",
    "Если создадим новый способ оплаты, который будет конвертировать клиентов в повторный заказ, то клиенты не будут испытывать трудности при оформлении заказа, вследствие чего количество заказов увеличится за счёт повторных заказов.\n",
    "\n",
    "Посчитаем количество созданных, но не подтвержденных заказов."
   ]
  },
  {
   "cell_type": "code",
   "execution_count": 166,
   "metadata": {},
   "outputs": [
    {
     "name": "stdout",
     "output_type": "stream",
     "text": [
      "Количество неподтвержденных заказов в июне 2017: 5\n"
     ]
    }
   ],
   "source": [
    "# количество неподтвержденных заказов в июне 2017\n",
    "impact_hypothesis_3 = orders_dataset.loc[\n",
    "    (orders_dataset['order_purchase_timestamp'] >= '2017-06-01') & \n",
    "    (orders_dataset['order_status'].isin(['created']))\n",
    "].order_id.nunique()\n",
    "\n",
    "gip_3 = impact_hypothesis_3 + impact_hypothesis_3 * 0.0035\n",
    "print(f\"Количество неподтвержденных заказов в июне 2017: {gip_3:.0f}\")"
   ]
  },
  {
   "cell_type": "code",
   "execution_count": 167,
   "metadata": {},
   "outputs": [],
   "source": [
    "# переведем полученные метрики в значение impact с помощью имеющейся шкалы перевода\n",
    "impact_1 = 4\n",
    "impact_2 = 1\n",
    "impact_3 = 1"
   ]
  },
  {
   "cell_type": "code",
   "execution_count": 168,
   "metadata": {},
   "outputs": [
    {
     "name": "stdout",
     "output_type": "stream",
     "text": [
      "ICE гипотезы 1 = 192\n",
      "ICE гипотезы 2 = 40\n",
      "ICE гипотезы 3 = 45\n"
     ]
    }
   ],
   "source": [
    "# рассчитаем фреймворк ICE для каждой гипотезы\n",
    "ICE_1 = impact_1 * confidence_1 * ease_1\n",
    "ICE_2 = impact_2 * confidence_2 * ease_2\n",
    "ICE_3 = impact_3 * confidence_3 * ease_3\n",
    "\n",
    "print(f\"ICE гипотезы 1 = {ICE_1:.0f}\")\n",
    "print(f\"ICE гипотезы 2 = {ICE_2:.0f}\")\n",
    "print(f\"ICE гипотезы 3 = {ICE_3:.0f}\")"
   ]
  },
  {
   "cell_type": "markdown",
   "metadata": {},
   "source": [
    "# Выводы по задаче 4\n",
    "Проведя анализ данных по фреймфорку ICE была выбрана первая гипотеза об исправлении бага в системе процессинга заказов."
   ]
  },
  {
   "cell_type": "markdown",
   "metadata": {},
   "source": [
    "# Задача 5. Сформулировать нужные метрики, на которые ваша гипотеза должна повлиять.\n",
    "\n",
    "После предыдущего исследования у вас появилась гипотеза, которую можно реализовать для значительного улучшения метрик компании. Вы предложили использовать A/B-тестирование для проверки её эффективности.\n",
    "\n",
    "Продакт попросил вас:\n",
    "\n",
    "Сформулировать метрики, на которые должна повлиять выбранная вами гипотеза.\n",
    "Сформулировать хотя бы по одной метрике в категории: целевые, прокси, guardrail."
   ]
  },
  {
   "cell_type": "markdown",
   "metadata": {},
   "source": [
    "# Выводы по задаче 5\n",
    "\n",
    "При проведении A/B-тестирования гипотезы об избавлении отмен заказов в результате исправления бага в системе процессинга заказов рекомендуется отслеживать следующие метрики:\n",
    "    \n",
    "- целевыми метриками являются доход в месяц и ARPPU;\n",
    "\n",
    "- прокси метриками являются доля клиентов, которые сделали больше 2 заказов и месячный retention;\n",
    "\n",
    "- барьерной метрикой выступает MAU.\n"
   ]
  },
  {
   "cell_type": "markdown",
   "metadata": {},
   "source": [
    "# Общие выводы по итогу исследования\n",
    "\n",
    "В процессе работы были проанализированы данные за последние два года работы маркетплейса и выяснено следующее.\n",
    "\n",
    "1. Были обнаружены ошибки в заполнении данных: часть записей, касающихся дат операций не соответствовала друг другу.\n",
    "\n",
    "2. Основная проблема отсутствие роста выручки в течение нескольких месяцев, с которой продакт-менеджер обратился за помощью с анализом данных маркетплейса, вероятнее всего является следствием сезонности действий клиентов, так как тренд совпадает с прошлым годом, а также, как оказалось, она не является основной проблемой для продукта.\n",
    "\n",
    "3. В целом анализ доходности маркетплейса показал, что первый год работы был успешнее второго. Темпы роста дохода снизились примерно в три раза, прослеживается тенденция к стагнации дохода, вероятно это связано с тем, что товары новые, в начале они вызвали интерес у клиентов, который со временем пропадает.\n",
    "\n",
    "4. Основная проблема продукта - низкий retention менее 1 процента. За все время работы маркетплейса лишь 3% клиентов сделали 3 и более заказов. У продукта отсутствует product/market fit. В первую очередь маркетплейсу необходимо сконцентрироваться на повышении retention: подробнее изучить клиентов и их потребности.\n",
    "\n",
    "5. Анализ данных показал, что самым слабым местом маркетплейса являеются сроки доставок заказов. Несмотря на то, что реальный срок доставки в среднем на 11 дней меньше обещанного, среднее время доставки товара 9 дней, а каждый 4 клиент ожидает товар более 2 недель. В дополнение почти 10 процентов клиентов получают заказ позже обещанного срока, что также отрицательно влияет на PMF.\n",
    "Можно предположить, что в настоящее время у клиентов есть возможность получить заказ быстрее, поэтому они уходят на другие площадки. \n",
    "\n",
    "6. Также необходимо принять во внимание время от оформления до подтверждения заказа. Четверть клиентов подтверждают заказ спустя более чем 14 часов после оформления. "
   ]
  },
  {
   "cell_type": "markdown",
   "metadata": {},
   "source": [
    "# Рекомендации по продукту\n",
    "\n",
    "1. Чтобы максимизировать прибыль компании рекомендуется продакту сконцентрироваться на основных метриках: целевых - месячному доходу и ARPPU, прокси - месячный retention и доле клиентов, которые сделали больше 2 заказов и барьерной MAU.\n",
    "\n",
    "2. Провести A/B-тестирование гипотезы об избавлении отмен заказов в результате исправления бага в системе процессинга заказов и оценить, повлияет ли она на основные метрики.\n",
    "\n",
    "3. Также можно провести анализ других логистических компаний и при наличии компании, которая доставляться заказы в меньшие сроки, чем текущая, воспользоваться ее услугами.\n",
    "\n",
    "4. Провести маркетинговую компанию, нацеленную на клиентов, которые не закончили оформление заказа.\n",
    "Если направить маркетинг на данную аудиторию, можно уменьшить это время, дав возможность клиенту понять ценность продукта.\n",
    "\n",
    "5. Провести анализ товаров, подумать над расширением ассортимента другими категориями товаров.\n",
    "\n",
    "6. Рекомендуется обратить внимание на причины возникновения ошибок в данных, так как в дальнейшем это может усложнить анализ работы компании.\n",
    "\n",
    "7. Провести опрос клиентов после получения заказа для оценки удовлетворенности заказом и определения проблемных зон взаимодействия клиентов с продуктом.\n",
    "\n"
   ]
  },
  {
   "cell_type": "markdown",
   "metadata": {},
   "source": [
    "Проект выполнен в рамках прохождения курса \"Аналитик данных\" от KarpovCourses"
   ]
  }
 ],
 "metadata": {
  "kernelspec": {
   "display_name": "Python [conda env:base] *",
   "language": "python",
   "name": "conda-base-py"
  },
  "language_info": {
   "codemirror_mode": {
    "name": "ipython",
    "version": 3
   },
   "file_extension": ".py",
   "mimetype": "text/x-python",
   "name": "python",
   "nbconvert_exporter": "python",
   "pygments_lexer": "ipython3",
   "version": "3.13.5"
  }
 },
 "nbformat": 4,
 "nbformat_minor": 4
}
